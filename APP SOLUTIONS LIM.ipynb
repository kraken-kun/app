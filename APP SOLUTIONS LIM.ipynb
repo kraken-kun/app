{
 "cells": [
  {
   "attachments": {},
   "cell_type": "markdown",
   "metadata": {},
   "source": [
    "1. A. Program to develop a payroll calculator for school using python.\n",
    ".\n",
    "\n"
   ]
  },
  {
   "attachments": {},
   "cell_type": "markdown",
   "metadata": {},
   "source": [
    "Algorithm:\n",
    "1. Start the program\n",
    "2. Get the input from the user\n",
    "3. Find the regular pay if there is no overtime hours\n",
    "4. Find the overtime hour. \n",
    "5. Find the regular time pay, over time pay and  net pay\n",
    "6. Print the results\n"
   ]
  },
  {
   "cell_type": "code",
   "execution_count": 1,
   "metadata": {},
   "outputs": [
    {
     "name": "stdout",
     "output_type": "stream",
     "text": [
      "One Stop Shop Payroll Calculator\n",
      "Employee's name:  Jayanth\n",
      "Overtime hours: 0\n",
      "Overtime Pay: $0.00\n",
      "Gross Pay: $ 0.0\n",
      "\n",
      "\n",
      "\n",
      "\n",
      "End of Report\n"
     ]
    }
   ],
   "source": [
    "user = \"Jayanth\"\n",
    "end = \"0\"\n",
    "hours = round(40,2)\n",
    "print(\"One Stop Shop Payroll Calculator\")\n",
    "\n",
    "hours = (float(input(\"Please enter hours worked: \", )))\n",
    "payrate =(float(input(\"Please enter your payrate: $\", )))\n",
    "if hours < 40:\n",
    "    print(\"Employee's name: \", user)\n",
    "    print(\"Overtime hours: 0\")\n",
    "    print(\"Overtime Pay: $0.00\")\n",
    "    regularpay = round(hours * payrate, 2)\n",
    "    print(\"Gross Pay: $\", regularpay)\n",
    "elif hours > 40:\n",
    "    overtimehours = round(hours - 40.00,2)\n",
    "    print(\"Overtime hours: \", overtimehours)\n",
    "    print(\"Employee's name: \", user)\n",
    "    regularpay = round(hours * payrate,2)\n",
    "    overtimerate = round(payrate * 1.5, 2)\n",
    "    overtimepay = round(overtimehours * overtimerate)\n",
    "    grosspay = round(regularpay+overtimepay,2)\n",
    "    print(\"Regular Pay: $\", regularpay)\n",
    "    print(\"Overtime Pay: $\",overtimepay)\n",
    "    print(\"Gross Pay: $\", grosspay)\n",
    "\n",
    "while user != end:\n",
    "    print()\n",
    "    user = input(\"Please enter your name or type '0' to quit: \")\n",
    "if user == end:\n",
    "   print(\"End of Report\")\n"
   ]
  },
  {
   "attachments": {},
   "cell_type": "markdown",
   "metadata": {},
   "source": [
    "B. Python program to add two matrices using a nested loop"
   ]
  },
  {
   "attachments": {},
   "cell_type": "markdown",
   "metadata": {},
   "source": [
    "Algorithm:\n",
    "1. Start the program\n",
    "2. Initialize the X,Y and result matrices\n",
    "3. Iterate through rows and columns\n",
    "5. Print the result using for loop\n",
    "6. Stop\n"
   ]
  },
  {
   "cell_type": "code",
   "execution_count": 2,
   "metadata": {},
   "outputs": [
    {
     "name": "stdout",
     "output_type": "stream",
     "text": [
      "[17, 15, 4]\n",
      "[10, 12, 9]\n",
      "[11, 13, 18]\n"
     ]
    }
   ],
   "source": [
    "X = [[12,7,3],\n",
    "        [4 ,5,6],\n",
    "       [7 ,8,9]]\n",
    "Y = [[5,8,1],\n",
    "        [6,7,3],\n",
    "       [4,5,9]]\n",
    "result = [[0,0,0],\n",
    "              [0,0,0],\n",
    "              [0,0,0]]\n",
    "# iterate through rows\n",
    "for i in range(len(X)):\n",
    "   # iterate through columns\n",
    "   for j in range(len(X[0])):\n",
    "       result[i][j] = X[i][j] + Y[i][j] \n",
    "for r in result:\n",
    "   print(r)\n"
   ]
  },
  {
   "attachments": {},
   "cell_type": "markdown",
   "metadata": {},
   "source": [
    "C. Write in detail about GUI Programming Paradigm.\n"
   ]
  },
  {
   "attachments": {},
   "cell_type": "markdown",
   "metadata": {},
   "source": [
    "GUI programming, which stands for Graphical User Interface programming, is a paradigm that focuses on creating interactive and visually appealing software applications. It involves designing and developing user interfaces that enable users to interact with a computer system using graphical elements such as windows, buttons, menus, and icons.\n",
    "\n",
    "The GUI programming paradigm emerged as a response to the limitations of command-line interfaces, where users had to type commands to perform tasks. GUIs provide a more intuitive and user-friendly approach by utilizing graphical elements that represent various functionalities and actions.\n",
    "\n",
    "Key Concepts in GUI Programming Paradigm:\n",
    "\n",
    "1. Widgets: In GUI programming, widgets are the building blocks of a user interface. Widgets are graphical elements that represent various user interface components such as buttons, text boxes, checkboxes, radio buttons, sliders, and menus. Each widget has specific properties and behaviors associated with it. Developers can create, configure, and arrange widgets to create the desired user interface.\n",
    "\n",
    "2. Event-driven programming: GUI programming is event-driven, meaning that the flow of the program is determined by user actions or events. Events can include mouse clicks, button presses, menu selections, or window resizing. When an event occurs, the system invokes the corresponding event handler or callback function, allowing developers to respond to the event by executing specific code or performing actions.\n",
    "\n",
    "3. Layout management: GUI programming involves arranging widgets within a window or a container. Layout management refers to the process of defining how widgets are positioned and sized within the interface. Different layout managers provide various strategies for organizing widgets, such as grid layouts, box layouts, or absolute positioning. Layout managers help ensure that the user interface adapts to different screen sizes and resolutions.\n",
    "\n",
    "4. Visual design: GUI programming emphasizes visual design and aesthetics to create appealing user interfaces. Developers can choose from a wide range of visual elements, including colors, fonts, icons, and images, to enhance the overall look and feel of the application. Visual design plays a crucial role in providing users with a pleasant and engaging experience.\n",
    "\n",
    "Benefits of GUI Programming Paradigm:\n",
    "\n",
    "1. User-friendly: GUIs offer an intuitive and visually appealing interface that is easier for users to understand and interact with compared to command-line interfaces.\n",
    "\n",
    "2. Increased productivity: GUI programming frameworks and libraries provide pre-built components and functionalities that accelerate application development. Developers can focus on implementing application-specific logic rather than low-level interface details.\n",
    "\n",
    "3. Enhanced interactivity: GUI programming enables developers to create interactive interfaces with features like drag-and-drop"
   ]
  },
  {
   "attachments": {},
   "cell_type": "markdown",
   "metadata": {},
   "source": [
    "2. \n",
    "A. Python program to return the largest Fibonacci number.\n"
   ]
  },
  {
   "attachments": {},
   "cell_type": "markdown",
   "metadata": {},
   "source": [
    "Algorithm:\n",
    "1. Start the program\n",
    "2. Get the integer from user\n",
    "3. Find largest Fibonacci Number smaller than x\n",
    "4. Find smallest Fibonacci Number larger than x:\n",
    "5. print largest Fibonacci Number smaller than x\n",
    "6. print smallest Fibonacci Number larger than x\n",
    "7. Stop\n"
   ]
  },
  {
   "cell_type": "code",
   "execution_count": 3,
   "metadata": {},
   "outputs": [
    {
     "name": "stdout",
     "output_type": "stream",
     "text": [
      "Unexpected exception formatting exception. Falling back to standard exception\n"
     ]
    },
    {
     "name": "stderr",
     "output_type": "stream",
     "text": [
      "Traceback (most recent call last):\n",
      "  File \"c:\\Users\\yogav\\AppData\\Local\\Programs\\Python\\Python311\\Lib\\site-packages\\IPython\\core\\interactiveshell.py\", line 3460, in run_code\n",
      "    exec(code_obj, self.user_global_ns, self.user_ns)\n",
      "  File \"C:\\Users\\yogav\\AppData\\Local\\Temp\\ipykernel_15804\\1252094255.py\", line 13, in <module>\n",
      "    x = int(input(\"Your number: \"))\n",
      "        ^^^^^^^^^^^^^^^^^^^^^^^^^^^\n",
      "ValueError: invalid literal for int() with base 10: 'dsadsa'\n",
      "\n",
      "During handling of the above exception, another exception occurred:\n",
      "\n",
      "Traceback (most recent call last):\n",
      "  File \"c:\\Users\\yogav\\AppData\\Local\\Programs\\Python\\Python311\\Lib\\site-packages\\IPython\\core\\interactiveshell.py\", line 2057, in showtraceback\n",
      "    stb = self.InteractiveTB.structured_traceback(\n",
      "          ^^^^^^^^^^^^^^^^^^^^^^^^^^^^^^^^^^^^^^^^\n",
      "  File \"c:\\Users\\yogav\\AppData\\Local\\Programs\\Python\\Python311\\Lib\\site-packages\\IPython\\core\\ultratb.py\", line 1118, in structured_traceback\n",
      "    return FormattedTB.structured_traceback(\n",
      "           ^^^^^^^^^^^^^^^^^^^^^^^^^^^^^^^^^\n",
      "  File \"c:\\Users\\yogav\\AppData\\Local\\Programs\\Python\\Python311\\Lib\\site-packages\\IPython\\core\\ultratb.py\", line 1012, in structured_traceback\n",
      "    return VerboseTB.structured_traceback(\n",
      "           ^^^^^^^^^^^^^^^^^^^^^^^^^^^^^^^\n",
      "  File \"c:\\Users\\yogav\\AppData\\Local\\Programs\\Python\\Python311\\Lib\\site-packages\\IPython\\core\\ultratb.py\", line 865, in structured_traceback\n",
      "    formatted_exception = self.format_exception_as_a_whole(etype, evalue, etb, number_of_lines_of_context,\n",
      "                          ^^^^^^^^^^^^^^^^^^^^^^^^^^^^^^^^^^^^^^^^^^^^^^^^^^^^^^^^^^^^^^^^^^^^^^^^^^^^^^^^\n",
      "  File \"c:\\Users\\yogav\\AppData\\Local\\Programs\\Python\\Python311\\Lib\\site-packages\\IPython\\core\\ultratb.py\", line 799, in format_exception_as_a_whole\n",
      "    self.get_records(etb, number_of_lines_of_context, tb_offset) if etb else []\n",
      "    ^^^^^^^^^^^^^^^^^^^^^^^^^^^^^^^^^^^^^^^^^^^^^^^^^^^^^^^^^^^^\n",
      "  File \"c:\\Users\\yogav\\AppData\\Local\\Programs\\Python\\Python311\\Lib\\site-packages\\IPython\\core\\ultratb.py\", line 845, in get_records\n",
      "    style = stack_data.style_with_executing_node(style, self._tb_highlight)\n",
      "            ^^^^^^^^^^^^^^^^^^^^^^^^^^^^^^^^^^^^^^^^^^^^^^^^^^^^^^^^^^^^^^^\n",
      "  File \"c:\\Users\\yogav\\AppData\\Local\\Programs\\Python\\Python311\\Lib\\site-packages\\stack_data\\core.py\", line 455, in style_with_executing_node\n",
      "    class NewStyle(style):\n",
      "  File \"c:\\Users\\yogav\\AppData\\Local\\Programs\\Python\\Python311\\Lib\\site-packages\\pygments\\style.py\", line 91, in __new__\n",
      "    ndef[4] = colorformat(styledef[3:])\n",
      "              ^^^^^^^^^^^^^^^^^^^^^^^^^\n",
      "  File \"c:\\Users\\yogav\\AppData\\Local\\Programs\\Python\\Python311\\Lib\\site-packages\\pygments\\style.py\", line 58, in colorformat\n",
      "    assert False, \"wrong color format %r\" % text\n",
      "AssertionError: wrong color format 'ansiyellow'\n"
     ]
    }
   ],
   "source": [
    "def fib_intervall(x):\n",
    "    if x < 0:\n",
    "        return -1\n",
    "    (old,new) = (0,1)\n",
    "    while True:\n",
    "        if new < x:\n",
    "            (old,new) = (new,old+new)\n",
    "        else:\n",
    "            if new == x: \n",
    "                new = old+new\n",
    "            return (old, new)     \n",
    "while True:\n",
    "    x = int(input(\"Your number: \"))\n",
    "    if x <= 0:\n",
    "        break\n",
    "    (lub, sup) = fib_intervall(x)\n",
    "    print(\"Largest Fibonacci Number smaller than x: \" + str(lub))\n",
    "    print(\"Smallest Fibonacci Number larger than x: \" + str(sup))\n"
   ]
  },
  {
   "attachments": {},
   "cell_type": "markdown",
   "metadata": {},
   "source": [
    "B. Python program to access a function inside a function.\n"
   ]
  },
  {
   "attachments": {},
   "cell_type": "markdown",
   "metadata": {},
   "source": [
    "Algorithm:\n",
    "1. Define a test function \n",
    "2. Define add function inside test function\n",
    "3. Perform addition operation\n",
    "4. Return the result\n",
    "5. Call the test function \n",
    "6. Print the result\n"
   ]
  },
  {
   "cell_type": "code",
   "execution_count": 4,
   "metadata": {},
   "outputs": [
    {
     "name": "stdout",
     "output_type": "stream",
     "text": [
      "9\n"
     ]
    }
   ],
   "source": [
    "def test(a):\n",
    "        def add(b):\n",
    "                nonlocal a\n",
    "                a += 1\n",
    "                return a+b\n",
    "        return add\n",
    "func= test(4)\n",
    "print(func(4))\n"
   ]
  },
  {
   "attachments": {},
   "cell_type": "markdown",
   "metadata": {},
   "source": [
    "C. Write in detail about Automata Programming Paradigm."
   ]
  },
  {
   "attachments": {},
   "cell_type": "markdown",
   "metadata": {},
   "source": [
    "Automata programming paradigm, also known as automaton-based programming, is a programming approach that revolves around the concept of automata. An automaton is a mathematical model consisting of states, transitions, and input symbols. It operates on an input stream and changes its state based on the input and its current state.\n",
    "\n",
    "Automata programming focuses on designing and implementing systems based on the behavior and characteristics of automata. It is particularly useful for modeling and solving problems that involve sequential processes, pattern recognition, language processing, and control systems.\n",
    "\n",
    "Key Concepts in Automata Programming Paradigm:\n",
    "\n",
    "1. Automata: Automata are the central concept in automata programming. They can be classified into various types based on their characteristics, including finite automata (FA), pushdown automata (PDA), Turing machines (TM), and more. Each type of automaton has its own properties and capabilities, which determine the complexity and expressiveness of the programming paradigm.\n",
    "\n",
    "2. States: An automaton consists of a set of states. Each state represents a particular configuration or condition of the system at a given point in time. The behavior of an automaton depends on its current state and the input it receives.\n",
    "\n",
    "3. Transitions: Transitions define the movement from one state to another in an automaton. They are triggered by specific input symbols or conditions. Transitions dictate how the automaton transitions from one state to another, updating its internal state based on the input and current state.\n",
    "\n",
    "4. Input Stream: Automata programming involves processing an input stream, which can be a sequence of symbols, characters, or events. The automaton reads the input stream one symbol at a time and changes its state accordingly.\n",
    "\n",
    "5. Determinism and Non-determinism: Automata can exhibit determinism or non-determinism. Deterministic automata have unique transitions for each input symbol and current state combination, leading to a unique next state. Non-deterministic automata, on the other hand, may have multiple possible transitions for a given input and current state, allowing for branching and choice.\n",
    "\n",
    "6. Language Recognition: Automata programming is often used for language recognition and processing tasks. Automata can recognize and classify patterns, strings, or sequences of symbols based on the input and their transition rules. Regular expressions, context-free grammars, and formal languages are commonly used in automata programming for language representation and manipulation.\n",
    "\n",
    "Advantages of Automata Programming Paradigm:\n",
    "\n",
    "1. Formalism: Automata programming provides a formal and mathematical framework for modeling and solving problems. The properties and behaviors of automata can be precisely defined, enabling rigorous analysis and reasoning about the system.\n",
    "\n",
    "2. Expressiveness: Automata are capable of representing and processing a wide range of sequential and pattern-based problems. The ability to recognize languages, patterns, and sequences makes automata programming suitable for tasks such as lexical analysis, parsing, string matching, and more.\n",
    "\n",
    "3. Modularity: Automata programming encourages modular design. Automata can be composed and combined to create more complex systems by connecting the outputs of one automaton to the inputs of another. This modularity facilitates the construction of sophisticated systems from simpler components.\n",
    "\n",
    "4. Determinism and Non-determinism: The ability to work with both deterministic and non-deterministic automata allows for flexibility in problem-solving. Deterministic automata are useful for efficient and predictable processing, while non-deterministic automata can handle branching and choice, enabling more expressive computations.\n",
    "\n",
    "Challenges of Automata Programming Paradigm:\n",
    "\n",
    "1. Complexity: Automata programming can become complex when dealing with large automata or complex systems. Managing and designing automata with numerous states, transitions, and inputs requires careful consideration and may involve significant computational overhead.\n",
    "\n",
    "2. Scalability: Scaling automata programming to handle large inputs or complex problems can be challenging.\n",
    "   \n",
    "3. Language Expressiveness: While automata programming is powerful for pattern recognition and language processing tasks, it may have limitations in expressing certain complex behaviors or algorithms that go beyond the capabilities of finite automata. More advanced automata models like Turing machines can address some of these limitations, but they may introduce additional complexity.\n",
    "\n",
    "4. Learning Curve: Understanding and effectively using automata programming requires a solid understanding of formal languages, automaton theory, and the mathematical foundations behind it. This can present a learning curve for developers who are not familiar with these concepts.\n",
    "\n",
    "5. Real-time Processing: Automata programming may not be well-suited for real-time processing or systems that require immediate responsiveness. The computational overhead involved in processing inputs through automata may introduce delays that are not acceptable in time-sensitive applications.\n",
    "\n",
    "Despite the challenges, automata programming has been successfully applied in various domains. It is particularly useful in language processing, lexical analysis, parsing, pattern recognition, and control systems. Many programming languages and frameworks provide support for automata-based operations and libraries for building automata-based systems.\n",
    "\n",
    "In conclusion, automata programming is a paradigm that focuses on designing and implementing systems based on automata models. It provides a formal and mathematical approach to problem-solving, particularly for tasks involving sequential processes, pattern recognition, and language processing. Automata programming offers expressive capabilities, modularity, and the ability to handle both determinism and non-determinism. While it may have complexity and scalability challenges, it has proven to be valuable in various applications requiring formal language recognition and system control."
   ]
  },
  {
   "attachments": {},
   "cell_type": "markdown",
   "metadata": {},
   "source": [
    "3.A. Program to create employee class using constructor and destructor."
   ]
  },
  {
   "attachments": {},
   "cell_type": "markdown",
   "metadata": {},
   "source": [
    "Algorithm:\n",
    "1. Start the program\n",
    "2. Initialize all the values using constructor.\n",
    "3. Initialize the destructor\n",
    "4. Get the input from user.\n",
    "5. Display the data\n",
    "6. Create the object for the employee class\n",
    "7. Call functions using class\n",
    "8. Stop\n"
   ]
  },
  {
   "cell_type": "code",
   "execution_count": 5,
   "metadata": {},
   "outputs": [
    {
     "name": "stdout",
     "output_type": "stream",
     "text": [
      "Object Initialized.\n",
      "Unexpected exception formatting exception. Falling back to standard exception\n"
     ]
    },
    {
     "name": "stderr",
     "output_type": "stream",
     "text": [
      "Traceback (most recent call last):\n",
      "  File \"c:\\Users\\yogav\\AppData\\Local\\Programs\\Python\\Python311\\Lib\\site-packages\\IPython\\core\\interactiveshell.py\", line 3460, in run_code\n",
      "    exec(code_obj, self.user_global_ns, self.user_ns)\n",
      "  File \"C:\\Users\\yogav\\AppData\\Local\\Temp\\ipykernel_15804\\1197183508.py\", line 36, in <module>\n",
      "    main()\n",
      "  File \"C:\\Users\\yogav\\AppData\\Local\\Temp\\ipykernel_15804\\1197183508.py\", line 31, in main\n",
      "    emp.setData()\n",
      "  File \"C:\\Users\\yogav\\AppData\\Local\\Temp\\ipykernel_15804\\1197183508.py\", line 12, in setData\n",
      "    self.__id=int(input(\"Enter Id\\t:\"))\n",
      "              ^^^^^^^^^^^^^^^^^^^^^^^^^\n",
      "ValueError: invalid literal for int() with base 10: 'dasd'\n",
      "\n",
      "During handling of the above exception, another exception occurred:\n",
      "\n",
      "Traceback (most recent call last):\n",
      "  File \"c:\\Users\\yogav\\AppData\\Local\\Programs\\Python\\Python311\\Lib\\site-packages\\IPython\\core\\interactiveshell.py\", line 2057, in showtraceback\n",
      "    stb = self.InteractiveTB.structured_traceback(\n",
      "          ^^^^^^^^^^^^^^^^^^^^^^^^^^^^^^^^^^^^^^^^\n",
      "  File \"c:\\Users\\yogav\\AppData\\Local\\Programs\\Python\\Python311\\Lib\\site-packages\\IPython\\core\\ultratb.py\", line 1118, in structured_traceback\n",
      "    return FormattedTB.structured_traceback(\n",
      "           ^^^^^^^^^^^^^^^^^^^^^^^^^^^^^^^^^\n",
      "  File \"c:\\Users\\yogav\\AppData\\Local\\Programs\\Python\\Python311\\Lib\\site-packages\\IPython\\core\\ultratb.py\", line 1012, in structured_traceback\n",
      "    return VerboseTB.structured_traceback(\n",
      "           ^^^^^^^^^^^^^^^^^^^^^^^^^^^^^^^\n",
      "  File \"c:\\Users\\yogav\\AppData\\Local\\Programs\\Python\\Python311\\Lib\\site-packages\\IPython\\core\\ultratb.py\", line 865, in structured_traceback\n",
      "    formatted_exception = self.format_exception_as_a_whole(etype, evalue, etb, number_of_lines_of_context,\n",
      "                          ^^^^^^^^^^^^^^^^^^^^^^^^^^^^^^^^^^^^^^^^^^^^^^^^^^^^^^^^^^^^^^^^^^^^^^^^^^^^^^^^\n",
      "  File \"c:\\Users\\yogav\\AppData\\Local\\Programs\\Python\\Python311\\Lib\\site-packages\\IPython\\core\\ultratb.py\", line 799, in format_exception_as_a_whole\n",
      "    self.get_records(etb, number_of_lines_of_context, tb_offset) if etb else []\n",
      "    ^^^^^^^^^^^^^^^^^^^^^^^^^^^^^^^^^^^^^^^^^^^^^^^^^^^^^^^^^^^^\n",
      "  File \"c:\\Users\\yogav\\AppData\\Local\\Programs\\Python\\Python311\\Lib\\site-packages\\IPython\\core\\ultratb.py\", line 845, in get_records\n",
      "    style = stack_data.style_with_executing_node(style, self._tb_highlight)\n",
      "            ^^^^^^^^^^^^^^^^^^^^^^^^^^^^^^^^^^^^^^^^^^^^^^^^^^^^^^^^^^^^^^^\n",
      "  File \"c:\\Users\\yogav\\AppData\\Local\\Programs\\Python\\Python311\\Lib\\site-packages\\stack_data\\core.py\", line 455, in style_with_executing_node\n",
      "    class NewStyle(style):\n",
      "  File \"c:\\Users\\yogav\\AppData\\Local\\Programs\\Python\\Python311\\Lib\\site-packages\\pygments\\style.py\", line 91, in __new__\n",
      "    ndef[4] = colorformat(styledef[3:])\n",
      "              ^^^^^^^^^^^^^^^^^^^^^^^^^\n",
      "  File \"c:\\Users\\yogav\\AppData\\Local\\Programs\\Python\\Python311\\Lib\\site-packages\\pygments\\style.py\", line 58, in colorformat\n",
      "    assert False, \"wrong color format %r\" % text\n",
      "AssertionError: wrong color format 'ansiyellow'\n"
     ]
    }
   ],
   "source": [
    "class Employee:\n",
    "    def __init__(self): #Constructor\n",
    "        self.__id = 0\n",
    "        self.__name = \"\"\n",
    "        self.__gender = \"\"\n",
    "        self.__city = \"\"\n",
    "        self.__salary = 0\n",
    "        print(\"Object Initialized.\")\n",
    "    def __del__(self): #Destructor\n",
    "        print(\"Object Destroyed.\")\n",
    "    def setData(self):\n",
    "        self.__id=int(input(\"Enter Id\\t:\"))\n",
    "        self.__name = input(\"Enter Name\\t:\")\n",
    "        self.__gender = input(\"Enter Gender:\")\n",
    "        self.__city = input(\"Enter City\\t:\")\n",
    "        self.__salary = int(input(\"Enter Salary:\"))\n",
    "    def __str__(self):\n",
    "        data = \"[\"+str(self.__id)+\",\"+self.__name+\",\"+self.__gender+\",\"+self.__city+\",\"+str(self.__salary)+\"]\"\n",
    "        return data\n",
    "    def showData(self):\n",
    "        print(\"Id\\t\\t:\",self.__id)\n",
    "        print(\"Name\\t:\", self.__name)\n",
    "        print(\"Gender\\t:\", self.__gender)\n",
    "        print(\"City\\t:\", self.__city)\n",
    "        print(\"Salary\\t:\", self.__salary)\n",
    "\n",
    "\n",
    "def main():\n",
    "    #Employee Object\n",
    "    emp=Employee()\n",
    "    emp.setData()\n",
    "    emp.showData()\n",
    "    print(emp)\n",
    "\n",
    "if __name__==\"__main__\":\n",
    "    main()\n"
   ]
  },
  {
   "attachments": {},
   "cell_type": "markdown",
   "metadata": {},
   "source": [
    "B. Write in detail about Symbolic Programming Paradigm."
   ]
  },
  {
   "attachments": {},
   "cell_type": "markdown",
   "metadata": {},
   "source": []
  },
  {
   "attachments": {},
   "cell_type": "markdown",
   "metadata": {},
   "source": [
    "4.\n",
    "A. Python program to implement mouse events."
   ]
  },
  {
   "attachments": {},
   "cell_type": "markdown",
   "metadata": {},
   "source": [
    "Algorithm:\n",
    "1. Import the package tkinter\n",
    "2. Define the right click event\n",
    "3. Print the right click event detail.\n",
    "4. Define the left click event\n",
    "5. Print the left click event detail.\n",
    "6. Define the middle click event\n",
    "7. Print the middle click event detail.\n",
    "8. Binding the event with buttons\n",
    "9. Create object and run main loop.\n",
    "10. Stop\n"
   ]
  },
  {
   "cell_type": "code",
   "execution_count": 3,
   "metadata": {},
   "outputs": [
    {
     "name": "stdout",
     "output_type": "stream",
     "text": [
      "leftclick\n",
      "middleclick\n",
      "middleclick\n",
      "rightclick\n",
      "rightclick\n",
      "leftclick\n",
      "leftclick\n"
     ]
    },
    {
     "ename": "KeyboardInterrupt",
     "evalue": "",
     "output_type": "error",
     "traceback": [
      "\u001b[0;31m---------------------------------------------------------------------------\u001b[0m",
      "\u001b[0;31mKeyboardInterrupt\u001b[0m                         Traceback (most recent call last)",
      "Cell \u001b[0;32mIn[3], line 17\u001b[0m\n\u001b[1;32m     15\u001b[0m frame\u001b[39m.\u001b[39mbind(\u001b[39m'\u001b[39m\u001b[39m<Button-3>\u001b[39m\u001b[39m'\u001b[39m,rightclick)\n\u001b[1;32m     16\u001b[0m frame\u001b[39m.\u001b[39mpack()\n\u001b[0;32m---> 17\u001b[0m root\u001b[39m.\u001b[39;49mmainloop()\n",
      "File \u001b[0;32m/usr/lib/python3.11/tkinter/__init__.py:1485\u001b[0m, in \u001b[0;36mMisc.mainloop\u001b[0;34m(self, n)\u001b[0m\n\u001b[1;32m   1483\u001b[0m \u001b[39mdef\u001b[39;00m \u001b[39mmainloop\u001b[39m(\u001b[39mself\u001b[39m, n\u001b[39m=\u001b[39m\u001b[39m0\u001b[39m):\n\u001b[1;32m   1484\u001b[0m \u001b[39m    \u001b[39m\u001b[39m\"\"\"Call the mainloop of Tk.\"\"\"\u001b[39;00m\n\u001b[0;32m-> 1485\u001b[0m     \u001b[39mself\u001b[39;49m\u001b[39m.\u001b[39;49mtk\u001b[39m.\u001b[39;49mmainloop(n)\n",
      "\u001b[0;31mKeyboardInterrupt\u001b[0m: "
     ]
    }
   ],
   "source": [
    "import tkinter as tk\n",
    "from tkinter import *\n",
    "root=tk.Tk()\n",
    "def rightclick(event):\n",
    "    print(\"rightclick\")\n",
    "\n",
    "def leftclick(event):\n",
    "    print(\"leftclick\")\n",
    "\n",
    "def middleclick(event):\n",
    "    print(\"middleclick\")\n",
    "frame=Frame(root,width=300,height=200)\n",
    "frame.bind('<Button-1>',leftclick)\n",
    "frame.bind('<Button-2>',middleclick)\n",
    "frame.bind('<Button-3>',rightclick)\n",
    "frame.pack()\n",
    "root.mainloop()\n"
   ]
  },
  {
   "attachments": {},
   "cell_type": "markdown",
   "metadata": {},
   "source": [
    "  B.Write in detail about Concurrent Programming Paradigm"
   ]
  },
  {
   "attachments": {},
   "cell_type": "markdown",
   "metadata": {},
   "source": [
    "Concurrent programming is a programming paradigm that focuses on developing software systems that can execute multiple tasks or processes concurrently. It is designed to handle situations where multiple tasks need to make progress simultaneously and independently. Concurrent programming allows for efficient utilization of modern multi-core processors and improves the overall performance and responsiveness of software applications.\n",
    "\n",
    "Key Concepts in Concurrent Programming Paradigm:\n",
    "\n",
    "1. Processes and threads: Concurrent programming involves the execution of multiple processes or threads concurrently. A process is an instance of a running program, while a thread is a lightweight unit of execution within a process. Processes and threads can operate independently and concurrently, enabling the execution of multiple tasks simultaneously.\n",
    "\n",
    "2. Synchronization: Synchronization is a crucial aspect of concurrent programming. It ensures that multiple processes or threads can safely access shared resources or communicate with each other without conflicts or race conditions. Synchronization mechanisms such as locks, mutexes, semaphores, and condition variables are used to coordinate access and enforce mutual exclusion.\n",
    "\n",
    "3. Inter-process/Thread communication: Concurrent programming requires effective communication mechanisms between processes or threads. Various communication methods are used, including shared memory, message passing, pipes, sockets, and shared data structures. These mechanisms enable processes or threads to exchange data, coordinate actions, and synchronize their execution.\n",
    "\n",
    "4. Parallelism: Concurrent programming often involves exploiting parallelism to improve performance. Parallelism refers to the execution of multiple tasks simultaneously on multiple processors or cores. By dividing a problem into smaller subtasks and executing them concurrently, parallelism can lead to significant speedup in computations and data processing.\n",
    "\n",
    "5. Deadlocks and race conditions: Concurrent programming introduces challenges such as deadlocks and race conditions. Deadlocks occur when two or more processes or threads are blocked indefinitely, waiting for each other to release resources. Race conditions arise when multiple processes or threads access shared resources simultaneously, resulting in unpredictable and erroneous behavior. Techniques like proper synchronization and resource management are used to prevent or resolve these issues.\n",
    "\n",
    "Approaches to Concurrent Programming:\n",
    "\n",
    "1. Shared Memory Concurrency: In this approach, processes or threads share memory and communicate through shared variables. Synchronization primitives like locks, mutexes, and semaphores are used to control access to shared memory and prevent conflicts.\n",
    "\n",
    "2. Message Passing Concurrency: In this approach, processes or threads communicate by passing messages to each other. Each process or thread has its own private memory, and communication occurs explicitly through message passing mechanisms provided by the programming language or operating system.\n",
    "\n",
    "3. Task-based Concurrency: Task-based concurrency focuses on dividing a program into smaller tasks or units of work that can be executed concurrently. These tasks can be scheduled and executed independently, allowing for efficient utilization of resources and dynamic workload balancing.\n",
    "\n",
    "4. Event-driven Concurrency: In event-driven concurrency, the program's execution is driven by events or triggers. Event handlers or callbacks are registered to respond to specific events, and the program executes the corresponding handlers when events occur. This approach is commonly used in graphical user interfaces (GUIs) and event-driven frameworks.\n",
    "\n",
    "Advantages of Concurrent Programming Paradigm:\n",
    "\n",
    "1. Improved performance: Concurrent programming allows for efficient utilization of modern multi-core processors, enabling tasks to be executed in parallel and speeding up computations.\n",
    "\n",
    "2. Responsiveness: Concurrent programs can handle multiple tasks concurrently, leading to improved responsiveness and better user experience, particularly in interactive applications.\n",
    "\n",
    "3. Resource utilization: Concurrent programming maximizes resource utilization by allowing multiple tasks to execute concurrently, making better use of available computational resources.\n",
    "\n",
    "4. Scalability: Concurrent programs can scale well with increasing computational resources. They can adapt to handle larger workloads and take advantage of additional processors or cores.\n",
    "\n",
    "5. Modularity and code reusability: Concurrent programming encourages modular design, allowing for the development of reusable components and libraries. Concurrent programs are often structured around independent processes or threads, facilitating code organization and maintenance"
   ]
  },
  {
   "attachments": {},
   "cell_type": "markdown",
   "metadata": {},
   "source": [
    "5.A. Create a table and perform select and insert , delete, update, modify with SQL using python code."
   ]
  },
  {
   "attachments": {},
   "cell_type": "markdown",
   "metadata": {},
   "source": [
    "Algorithm:\n",
    "1. Start the program\n",
    "2. Connect to the database using connect function in sqlite3.\n",
    "3. Create the company table\n",
    "4. Insert the records into the table\n",
    "5. Display the data from table\n",
    "6. Display the all columns from the table\n",
    "7. Update the table\n",
    "8. Delete the records from the database\n",
    "9. Stop\n",
    "\n"
   ]
  },
  {
   "cell_type": "code",
   "execution_count": 7,
   "metadata": {},
   "outputs": [
    {
     "name": "stdout",
     "output_type": "stream",
     "text": [
      "\n",
      "Initial table: \n",
      "(1, 'Aman')\n",
      "(2, 'Aviraj')\n",
      "(3, 'Venkat')\n",
      "\n",
      "Deleting an enrty : (3,Venkat)\n",
      "\n",
      "Table is now: \n",
      "(1, 'Aman')\n",
      "(2, 'Aviraj')\n",
      "\n",
      "Updating a name to full name:\n",
      "\n",
      "Table is now: \n",
      "(1, 'AMAN BHAI PATEL')\n",
      "(2, 'Aviraj')\n"
     ]
    }
   ],
   "source": [
    "import sqlite3\n",
    "\n",
    "con = sqlite3.connect('file4.db')\n",
    "c = con.cursor()\n",
    "\n",
    "def printall():\n",
    "    global c\n",
    "    for row in c.execute(\"SELECT * FROM datatable\"):\n",
    "        print(row)\n",
    "\n",
    "\n",
    "c.execute(\"CREATE TABLE datatable(ID INTEGER,Name TEXT);\")\n",
    "\n",
    "namelist = [(1,'Aman'),(2,'Aviraj'),(3,'Venkat')]\n",
    "c.executemany(\"INSERT INTO datatable VALUES(?,?)\",namelist)\n",
    "con.commit()\n",
    "\n",
    "print(\"\\nInitial table: \")\n",
    "printall()\n",
    "\n",
    "print(\"\\nDeleting an enrty : (3,Venkat)\")\n",
    "c.execute(\"DELETE FROM datatable WHERE Name = 'Venkat';\")\n",
    "print(\"\\nTable is now: \")\n",
    "printall()\n",
    "\n",
    "print(\"\\nUpdating a name to full name:\")\n",
    "print(\"\\nTable is now: \")\n",
    "c.execute(\"UPDATE datatable SET Name='AMAN BHAI PATEL' WHERE ID=1;\")\n",
    "printall()\n"
   ]
  },
  {
   "attachments": {},
   "cell_type": "markdown",
   "metadata": {},
   "source": [
    "B. Write in detail about Structured Programming Paradigm."
   ]
  },
  {
   "attachments": {},
   "cell_type": "markdown",
   "metadata": {},
   "source": [
    "Structured programming is a programming paradigm that emphasizes the use of structured control flow constructs and modular design principles. It aims to improve the readability, maintainability, and efficiency of software by employing a disciplined approach to organizing code.\n",
    "\n",
    "Key Concepts in Structured Programming Paradigm:\n",
    "\n",
    "1. Sequential Control Flow: Structured programming promotes the use of sequential control flow, where statements are executed in a linear order from top to bottom. It emphasizes writing code in a clear and straightforward manner, making it easier to understand and debug.\n",
    "\n",
    "2. Structured Control Flow Constructs: Structured programming introduces structured control flow constructs to manage program flow and avoid unstructured jumps and branching. The main constructs include sequence, selection, and iteration:\n",
    "\n",
    "   - Sequence: Programs are structured as sequences of instructions executed one after another. This ensures that statements are executed in a defined order.\n",
    "\n",
    "   - Selection: Selection constructs such as \"if-else\" and \"switch\" statements enable conditional execution of code blocks based on certain conditions. This allows for decision-making within the program.\n",
    "\n",
    "   - Iteration: Iteration constructs such as \"for,\" \"while,\" and \"do-while\" loops facilitate the repetition of code blocks until specific conditions are met. Loops provide a way to execute a set of instructions iteratively.\n",
    "\n",
    "3. Modular Design: Structured programming promotes modular design by breaking down complex programs into smaller, manageable modules or functions. Modules encapsulate related functionality and can be reused across different parts of the program, enhancing code reusability and maintainability.\n",
    "\n",
    "4. Top-Down Design: Top-down design is a common approach in structured programming. It involves dividing a problem into smaller sub-problems and addressing them separately. The main program is structured hierarchically, with each sub-problem being implemented as a separate module or function.\n",
    "\n",
    "5. Data Abstraction: Structured programming encourages the use of data abstraction, where data and related operations are encapsulated into abstract data types. Abstract data types provide a high-level interface to manipulate data, hiding implementation details and promoting code modularity and reusability.\n",
    "\n",
    "Benefits of Structured Programming Paradigm:\n",
    "\n",
    "1. Readability: Structured programming techniques promote clear and readable code. The use of structured control flow constructs and modular design principles makes code easier to understand and maintain, even for large and complex programs.\n",
    "\n",
    "2. Maintainability: By organizing code into modular units and employing structured control flow, structured programming enhances code maintainability. Modules can be developed, tested, and maintained independently, facilitating code updates and bug fixes.\n",
    "\n",
    "3. Debugging and Testing: The structured nature of code in structured programming simplifies the debugging and testing process. With well-defined control flow and modular design, it becomes easier to isolate and identify errors, making debugging and testing more efficient.\n",
    "\n",
    "4. Code Reusability: Modular design and encapsulation of functionality promote code reusability. Modules or functions can be reused in different parts of the program or in other projects, saving development time and effort.\n",
    "\n",
    "5. Efficiency: Structured programming can lead to efficient code execution. The use of structured control flow constructs allows compilers and interpreters to optimize code, resulting in faster and more efficient programs.\n",
    "\n",
    "6. Team Collaboration: Structured programming facilitates team collaboration by providing a standardized approach to code organization and design. Clear coding practices and modular structure make it easier for multiple developers to work together on the same project.\n",
    "\n",
    "Limitations of Structured Programming:\n",
    "\n",
    "1. Lack of Flexibility: Structured programming may sometimes lack flexibility compared to other paradigms. The rigid control flow and modular structure may not be suitable for certain types of problems or programming scenarios that require more dynamic or flexible approaches.\n",
    "\n",
    "2. Code Duplication: Without proper management, structured programming may result in code duplication, especially if modules are not effectively reused. This can lead to increased maintenance effort and potential inconsistencies in the codebase if changes need to be made.\n",
    "\n",
    "3. Limited Support for Concurrency: Structured programming paradigms focus primarily on sequential execution and do not provide built-in mechanisms for handling concurrent tasks or parallel execution. As a result, developing concurrent or parallel programs may require additional techniques or paradigms.\n",
    "\n",
    "4. Difficulty in Handling Complex Systems: While structured programming promotes modular design, it may still face challenges when dealing with extremely complex systems. As programs grow in size and complexity, managing the interdependencies between modules and ensuring high cohesion and low coupling can become more challenging.\n",
    "\n",
    "5. Potential for Long Functions: If not properly managed, structured programming can lead to long functions or procedures that contain a large number of statements. Long functions can be harder to understand and maintain, reducing the benefits of readability and maintainability associated with structured programming.\n",
    "\n",
    "6. Lack of Direct Support for Object-Oriented Concepts: Structured programming does not inherently support object-oriented concepts such as encapsulation, inheritance, and polymorphism. While modular design can help with code organization, it may not provide the same level of abstraction and flexibility as object-oriented programming paradigms.\n",
    "\n",
    "It's important to note that structured programming is still widely used and has served as the foundation for many programming languages and practices. While it may have certain limitations, structured programming remains a valuable paradigm for developing clear, readable, and maintainable code in a variety of software development contexts."
   ]
  },
  {
   "attachments": {},
   "cell_type": "markdown",
   "metadata": {},
   "source": [
    "6.A. Python program to implement bubble sort."
   ]
  },
  {
   "attachments": {},
   "cell_type": "markdown",
   "metadata": {},
   "source": [
    "Algorithm:\n",
    "1. Start with an unsorted array of elements.\n",
    "2. Compare the first element with the second element. If the first element is greater than the second element, swap them.\n",
    "3. Move to the next pair of adjacent elements and repeat the comparison and swap if necessary. Continue this process until reaching the end of the array.\n",
    "4. At this point, the largest element is placed at the end of the array.\n",
    "5. Repeat steps 2-4 for the remaining elements, excluding the last element that is already in its sorted position after each pass.\n",
    "6. Continue the iterations until the entire array is sorted, and no more swaps are needed."
   ]
  },
  {
   "cell_type": "code",
   "execution_count": 8,
   "metadata": {},
   "outputs": [
    {
     "name": "stdout",
     "output_type": "stream",
     "text": [
      "Original Array: [64, 34, 25, 12, 22, 11, 90]\n",
      "Sorted Array: [11, 12, 22, 25, 34, 64, 90]\n"
     ]
    }
   ],
   "source": [
    "def bubble_sort(arr):\n",
    "    n = len(arr)\n",
    "\n",
    "    # Traverse through all array elements\n",
    "    for i in range(n - 1):\n",
    "        # Last i elements are already in place\n",
    "        for j in range(0, n - i - 1):\n",
    "            # Swap if the element found is greater than the next element\n",
    "            if arr[j] > arr[j + 1]:\n",
    "                arr[j], arr[j + 1] = arr[j + 1], arr[j]\n",
    "\n",
    "# Test the Bubble Sort implementation\n",
    "arr = [64, 34, 25, 12, 22, 11, 90]\n",
    "print(\"Original Array:\", arr)\n",
    "\n",
    "bubble_sort(arr)\n",
    "\n",
    "print(\"Sorted Array:\", arr)\n"
   ]
  },
  {
   "attachments": {},
   "cell_type": "markdown",
   "metadata": {},
   "source": [
    "B. Write in detail about Parallel Programming Paradigm"
   ]
  },
  {
   "attachments": {},
   "cell_type": "markdown",
   "metadata": {},
   "source": [
    "Parallel programming is a programming paradigm that focuses on designing and implementing software systems that can efficiently execute tasks or processes concurrently on multiple computational resources, such as multiple processors, cores, or machines. The goal of parallel programming is to improve performance by exploiting parallelism and utilizing available resources effectively.\n",
    "\n",
    "Key Concepts in Parallel Programming Paradigm:\n",
    "\n",
    "1. Parallelism: Parallel programming is built upon the concept of parallelism, which involves the execution of multiple tasks simultaneously. Parallelism can be achieved at different levels, including task-level parallelism, data-level parallelism, and instruction-level parallelism.\n",
    "\n",
    "   - Task-Level Parallelism: Involves dividing a program into smaller tasks or sub-tasks that can be executed concurrently. These tasks are independent and can be executed simultaneously on different processors or cores.\n",
    "\n",
    "   - Data-Level Parallelism: Involves dividing a task into smaller data segments that can be processed concurrently. Each segment is processed by a separate computational unit, enabling parallel execution.\n",
    "\n",
    "   - Instruction-Level Parallelism: Involves executing multiple instructions simultaneously within a single task using techniques such as pipelining or superscalar execution.\n",
    "\n",
    "2. Concurrency and Synchronization: Parallel programming requires managing concurrent execution and ensuring proper synchronization to avoid race conditions, data inconsistencies, and other concurrency-related issues. Synchronization mechanisms, such as locks, semaphores, barriers, and atomic operations, are used to coordinate access to shared resources and enable safe communication and data sharing between parallel tasks.\n",
    "\n",
    "3. Load Balancing: Load balancing is essential in parallel programming to distribute tasks evenly across available computational resources. It aims to maximize resource utilization and minimize idle time. Load balancing techniques ensure that tasks are assigned optimally to avoid bottlenecks and optimize overall performance.\n",
    "\n",
    "4. Granularity: Granularity refers to the size and scope of tasks or units of work in parallel programming. Fine-grained parallelism involves dividing the program into smaller tasks, while coarse-grained parallelism involves larger tasks. The choice of granularity depends on factors such as task dependency, communication overhead, and load balancing considerations.\n",
    "\n",
    "5. Communication and Coordination: Parallel programming involves efficient communication and coordination between parallel tasks or processes. Various communication models and paradigms are used, including shared memory, message passing, remote procedure calls (RPC), and distributed shared memory (DSM). These mechanisms enable parallel tasks to exchange data, synchronize their execution, and coordinate their actions.\n",
    "\n",
    "Approaches to Parallel Programming:\n",
    "\n",
    "1. Shared Memory Parallelism: In shared memory parallelism, parallel tasks communicate by accessing shared memory regions. Each task has its own private memory, but they can exchange data through shared variables or data structures. Programming models like OpenMP and Pthreads provide constructs and libraries for shared memory parallel programming.\n",
    "\n",
    "2. Message Passing Parallelism: In message passing parallelism, parallel tasks communicate by explicitly sending messages to each other. Each task has its own memory space, and communication occurs through message passing primitives. Programming models like MPI (Message Passing Interface) facilitate message passing parallel programming.\n",
    "\n",
    "3. Data Parallelism: Data parallelism involves distributing data across multiple processors or cores and executing the same operations concurrently on different data elements. SIMD (Single Instruction, Multiple Data) and vector processing architectures are commonly used for data parallelism. Programming languages like CUDA and OpenCL provide frameworks for programming data parallelism on GPUs.\n",
    "\n",
    "4. Task Parallelism: Task parallelism focuses on dividing a program into smaller tasks or units of work that can be executed concurrently. Each task is assigned to a separate processor or core. Task parallelism is commonly used in parallel frameworks like Intel TBB (Threading Building Blocks) and Cilk.\n",
    "\n",
    "Advantages of Parallel Programming Paradigm:\n",
    "\n",
    "1. Improved Performance: Parallel programming allows programs to make effective use of available computational resources, leading to improved performance and faster execution times. By dividing tasks and executing them concurrently, parallel programming can significantly reduce the overall execution time of a program.\n",
    "\n",
    "2. Scalability: Parallel programming enables programs to scale with increasing computational resources. As more processors or cores are added, the workload can be distributed across them, allowing for efficient utilization of available resources and accommodating larger problem sizes.\n",
    "\n",
    "3. High Throughput: Parallel programming can achieve high throughput by processing multiple tasks simultaneously. This is especially beneficial for applications that involve large-scale data processing, simulations, scientific computing, and real-time systems.\n",
    "\n",
    "4. Resource Utilization: Parallel programming maximizes resource utilization by leveraging multiple processors or cores. It enables better utilization of available hardware resources, such as CPU cycles, memory bandwidth, and I/O devices, leading to increased overall system efficiency.\n",
    "\n",
    "5. Real-Time Responsiveness: Parallel programming can improve real-time responsiveness by executing tasks concurrently and reducing the latency of critical operations. This is particularly important in applications that require timely responses, such as real-time data processing, multimedia applications, and interactive systems.\n",
    "\n",
    "6. Complex Problem Solving: Parallel programming enables the efficient solution of complex problems that can be divided into smaller independent tasks. By distributing the workload across multiple processors or cores, parallel programming simplifies the problem-solving process and enables faster computations.\n",
    "\n",
    "Challenges of Parallel Programming:\n",
    "\n",
    "1. Parallel Overhead: Parallel programming introduces overhead associated with task coordination, data synchronization, and communication between parallel tasks. Managing this overhead and ensuring efficient communication and synchronization can be challenging.\n",
    "\n",
    "2. Data Dependencies: Data dependencies between parallel tasks can introduce complexities in parallel programming. Synchronizing access to shared data and managing dependencies to avoid race conditions and data inconsistencies require careful design and synchronization mechanisms.\n",
    "\n",
    "3. Load Balancing: Efficient load balancing is crucial for achieving optimal performance in parallel programming. Ensuring that tasks are evenly distributed across processors or cores and that the workload is balanced can be challenging, particularly when task sizes or execution times vary.\n",
    "\n",
    "4. Complexity and Debugging: Parallel programming introduces additional complexities compared to sequential programming. Debugging and testing parallel programs can be challenging due to non-deterministic behaviors, race conditions, and interactions between parallel tasks.\n",
    "\n",
    "5. Scalability Limitations: While parallel programming enables scalability, there may be limits to how well a program can scale. Factors such as task dependencies, communication overhead, and synchronization requirements can affect the scalability of parallel programs.\n",
    "\n",
    "6. Portability: Parallel programming often relies on specific parallel programming models, libraries, or frameworks, which can limit the portability of code across different architectures or platforms. Writing portable parallel code requires considering the specific parallel programming model and adapting the code accordingly.\n",
    "\n",
    "Despite these challenges, parallel programming continues to play a vital role in high-performance computing, scientific simulations, data analytics, and other computationally intensive applications. Advances in parallel programming models, tools, and hardware architectures continue to address these challenges and make parallel programming more accessible and efficient for developers."
   ]
  },
  {
   "attachments": {},
   "cell_type": "markdown",
   "metadata": {},
   "source": [
    "7.A. Python program to implement synchronization between process using lock."
   ]
  },
  {
   "attachments": {},
   "cell_type": "markdown",
   "metadata": {},
   "source": [
    "Algorithm:\n",
    "1. Start the program\n",
    "2. Import PROCESS, LOCK\n",
    "3. Define FUNTION\n",
    "4. Define Lock\n",
    "5. Setup Threads and Start it\n",
    "6. Execute the program\n"
   ]
  },
  {
   "cell_type": "code",
   "execution_count": 6,
   "metadata": {},
   "outputs": [
    {
     "name": "stdout",
     "output_type": "stream",
     "text": [
      "hello world 0\n",
      "hello world 1\n",
      "hello world 2\n",
      "hello world 3\n",
      "hello world 4\n",
      " hello world5\n",
      "hello world"
     ]
    },
    {
     "name": "stdout",
     "output_type": "stream",
     "text": [
      " 6\n",
      "hello world 7\n",
      "hello world 8\n",
      "hello world 9\n"
     ]
    }
   ],
   "source": [
    "from multiprocessing import Process, Lock\n",
    "\n",
    "def f(l, i):\n",
    "    l.acquire()\n",
    "    try:\n",
    "        print('hello world', i)\n",
    "    finally:\n",
    "        l.release()\n",
    "\n",
    "if __name__ == '__main__':\n",
    "    lock = Lock()\n",
    "\n",
    "    for num in range(10):\n",
    "        Process(target=f, args=(lock, num)).start()\n"
   ]
  },
  {
   "attachments": {},
   "cell_type": "markdown",
   "metadata": {},
   "source": [
    "B. Write in detail about Event driven Programming Paradigm."
   ]
  },
  {
   "attachments": {},
   "cell_type": "markdown",
   "metadata": {},
   "source": [
    "Event-driven programming is a programming paradigm that focuses on designing software systems based on events, where events can be user actions, system notifications, or any other occurrences that require a response from the program. In event-driven programming, the flow of the program is determined by events rather than a predefined sequence of instructions.\n",
    "\n",
    "Key Concepts in Event-Driven Programming Paradigm:\n",
    "\n",
    "1. Events: Events represent occurrences or signals that require attention and response from the program. Events can be triggered by various sources, such as user actions (mouse clicks, keyboard input), system notifications (timers, network events), or changes in program state. Each event is associated with a specific event handler or callback function that defines the response or action to be taken when the event occurs.\n",
    "\n",
    "2. Event Handlers: Event handlers are functions or methods that are responsible for processing events. When an event occurs, the associated event handler is executed to respond to the event. Event handlers typically implement the required functionality or behavior based on the event context.\n",
    "\n",
    "3. Event Loop: The event loop is a central component of event-driven programming. It continuously waits for events to occur and dispatches them to the appropriate event handlers for processing. The event loop manages the flow of events, ensuring that events are processed in the order they occur and that the program remains responsive.\n",
    "\n",
    "4. Callbacks: Callbacks are functions or procedures that are passed as arguments to other functions or registered with event handlers. They are executed when specific conditions are met or when events occur. Callbacks allow for asynchronous and non-blocking execution, enabling programs to handle multiple events concurrently.\n",
    "\n",
    "5. Event-Driven Architecture: Event-driven programming promotes a modular and loosely coupled architecture. Components or modules in an event-driven system are designed to interact through events and event handlers. This decoupling allows for flexibility and extensibility, as components can be added, removed, or modified without affecting the overall system functionality.\n",
    "\n",
    "Advantages of Event-Driven Programming Paradigm:\n",
    "\n",
    "1. Responsiveness: Event-driven programming enables highly responsive systems as they can react to events promptly. The program can process events as they occur, allowing for real-time or near-real-time interactions with users or external systems.\n",
    "\n",
    "2. Modularity and Extensibility: Event-driven programming promotes modular design, making it easier to add, modify, or replace components without affecting the entire system. New event handlers can be created or existing ones can be modified independently, providing flexibility and extensibility.\n",
    "\n",
    "3. User-Driven Interaction: Event-driven programming is well-suited for user interfaces and interactive applications. User actions, such as mouse clicks or keyboard input, can be captured as events, triggering specific responses or actions in the program.\n",
    "\n",
    "4. Concurrency and Asynchrony: Event-driven programs can handle multiple events concurrently. Events can be processed asynchronously, allowing the program to continue executing other tasks while waiting for events to occur or responses to be received.\n",
    "\n",
    "5. Event Composition: Event-driven programming allows for event composition, where complex events can be constructed by combining or sequencing multiple simpler events. This enables the creation of higher-level abstractions and more sophisticated event handling logic.\n",
    "\n",
    "Challenges of Event-Driven Programming:\n",
    "\n",
    "1. Event Handling Order: In event-driven systems, the order in which events are processed can be crucial. Handling events in the wrong order may lead to unexpected behavior or incorrect program state. Proper management of event dependencies and sequencing is essential to ensure correct event handling.\n",
    "\n",
    "2. Event Overload: In event-driven systems with a large number of events, there is a risk of event overload, where the program is bombarded with events that need to be processed. Efficient event filtering, prioritization, and throttling mechanisms may be required to manage event overload effectively.\n",
    "\n",
    "3. Complex Event Flow: In complex systems, the flow of events can become intricate, with events triggering other events and forming event chains or hierarchies. Managing and understanding the flow of events in such scenarios can be challenging, requiring careful event design and event handling strategies.\n",
    "\n",
    "4. Debugging and Testing: Debugging and testing event-driven programs can be complex due to the non-deterministic nature of event occurrence and event-driven interactions. Reproducing specific event sequences or scenarios for testing purposes can be difficult, requiring specialized tools and techniques.\n",
    "\n",
    "5. Event Dependency Management: Events in an event-driven system can have dependencies, where the occurrence or outcome of one event affects the processing or occurrence of another event. Managing event dependencies and ensuring proper synchronization can be complex, especially in distributed or concurrent systems.\n",
    "\n",
    "6. Scalability and Performance: Event-driven systems need to be designed and optimized for scalability and performance. Handling a large number of events efficiently, minimizing event processing delays, and managing system resources effectively are important considerations for building high-performance event-driven applications.\n",
    "\n",
    "Event-driven programming is widely used in various domains, including graphical user interfaces (GUIs), web applications, networking, real-time systems, and event-driven architectures such as message queues and event-driven microservices. Popular programming frameworks and libraries, such as JavaScript with its event-driven model for web development, provide extensive support for event-driven programming."
   ]
  },
  {
   "attachments": {},
   "cell_type": "markdown",
   "metadata": {},
   "source": [
    "8.A. Python program to implement concurrent program using locks.\n"
   ]
  },
  {
   "attachments": {},
   "cell_type": "markdown",
   "metadata": {},
   "source": [
    "Algorithm:\n",
    "1. Start the program\n",
    "2. Import THREADING\n",
    "3. Define SHARED VARIABLE\n",
    "4. Define functions using ACQUIRE , RELEASE functions\n",
    "5. Setup Threads and Start it\n",
    "6. Execute the program\n"
   ]
  },
  {
   "cell_type": "code",
   "execution_count": 10,
   "metadata": {},
   "outputs": [
    {
     "name": "stdout",
     "output_type": "stream",
     "text": [
      "thread locked for increment cur x= 0\n",
      "1\n",
      "2\n",
      "3\n",
      "4\n",
      "5\n",
      "6\n",
      "7\n",
      "8\n",
      "9\n",
      "10\n",
      "thread release from increment cur x= 10\n",
      "thread locked for decrement cur x= 10\n",
      "9\n",
      "8\n",
      "7\n",
      "6\n",
      "5\n",
      "4\n",
      "3\n",
      "2\n",
      "1\n",
      "0\n",
      "thread release from decrement cur x= 0\n"
     ]
    }
   ],
   "source": [
    "import threading\n",
    "x = 0     # A shared value\n",
    "COUNT = 10\n",
    "lock = threading.Lock()\n",
    "def incr():\n",
    "    global x\n",
    "    lock.acquire()\n",
    "    print(\"thread locked for increment cur x=\",x)\n",
    "    for i in range(COUNT):\n",
    "        x += 1\n",
    "        print(x)\n",
    "    lock.release()\n",
    "    print(\"thread release from increment cur x=\",x) \n",
    "def decr():\n",
    "    global x\n",
    "    lock.acquire()\n",
    "    print(\"thread locked for decrement cur x=\",x)\n",
    "    for i in range(COUNT):\n",
    "        x -= 1\n",
    "        print(x)\n",
    "    lock.release()\n",
    "    print(\"thread release from decrement cur x=\",x)\n",
    "t1 = threading.Thread(target=incr)\n",
    "t2 = threading.Thread(target=decr)\n",
    "t1.start()\n",
    "t2.start()\n",
    "t1.join()\n",
    "t2.join()\n"
   ]
  },
  {
   "attachments": {},
   "cell_type": "markdown",
   "metadata": {},
   "source": [
    "B. Write in detail about Logic Programming Paradigm\n"
   ]
  },
  {
   "attachments": {},
   "cell_type": "markdown",
   "metadata": {},
   "source": [
    "Logic programming is a programming paradigm that is based on formal logic and mathematical logic. It focuses on specifying a set of logical rules and facts rather than giving step-by-step instructions for computation. In logic programming, programs are constructed by defining relationships between entities and describing the logical constraints that govern their behavior.\n",
    "\n",
    "Key Concepts in Logic Programming Paradigm:\n",
    "\n",
    "1. Logic Rules: Logic programming is built on the foundation of logical rules. These rules are expressed using logical clauses and predicates. They define relationships between entities and specify how the program should infer new information based on existing facts and rules.\n",
    "\n",
    "2. Facts: Facts represent the basic building blocks of knowledge in a logic program. They are declarative statements that assert some piece of information to be true. Facts can be used as the basis for logical reasoning and deduction.\n",
    "\n",
    "3. Predicates: Predicates are logical statements that can take one or more arguments and evaluate to either true or false. They represent relationships between entities or properties of those entities. Predicates can be used to define both facts and rules in a logic program.\n",
    "\n",
    "4. Logical Inference: Logic programming relies on logical inference to derive new information based on existing knowledge and rules. Through the process of unification and backtracking, a logic programming system can evaluate queries and explore possible solutions that satisfy the logical constraints specified in the program.\n",
    "\n",
    "5. Prolog: Prolog is the most widely known and used programming language for logic programming. It provides a set of built-in predicates and mechanisms for defining rules and facts. Prolog programs consist of a collection of facts and rules, and the program execution involves querying the program to retrieve solutions.\n",
    "\n",
    "Advantages of Logic Programming Paradigm:\n",
    "\n",
    "1. Declarative Nature: Logic programming allows developers to focus on the logical relationships and constraints rather than the implementation details. Programs can be expressed in a concise and declarative manner, making them more readable and easier to understand.\n",
    "\n",
    "2. Automatic Backtracking: Logic programming systems, such as Prolog, provide automatic backtracking mechanisms. This allows the system to explore alternative solutions when the initial attempt fails, improving the efficiency and flexibility of program execution.\n",
    "\n",
    "3. Natural Language Processing: Logic programming lends itself well to natural language processing tasks. The declarative nature of logic programming enables the representation and manipulation of natural language constructs, making it useful for building language parsers and understanding linguistic structures.\n",
    "\n",
    "4. Rule-Based Systems: Logic programming is commonly used in rule-based systems, where a set of rules is used to make decisions or draw conclusions based on given inputs. Rule-based systems find applications in areas such as expert systems, artificial intelligence, and business rule engines.\n",
    "\n",
    "5. Non-Determinism: Logic programming allows for non-deterministic behavior, where multiple solutions can be explored for a given query. This can be useful in scenarios where there are multiple valid answers or when searching for optimal solutions.\n",
    "\n",
    "Challenges of Logic Programming Paradigm:\n",
    "\n",
    "1. Efficiency: Logic programming can suffer from performance issues, especially for complex problems. The search space can become exponentially large, resulting in increased execution time and memory requirements. Careful optimization and efficient use of logical constructs are essential to mitigate these challenges.\n",
    "\n",
    "2. Limited Control Flow: Logic programming lacks fine-grained control flow mechanisms, such as loops and conditionals found in imperative programming languages. While backtracking allows for exploration of multiple solutions, it can sometimes be difficult to express complex control flow patterns.\n",
    "\n",
    "3. Learning Curve: Logic programming requires a different mindset and a good understanding of logical concepts. The declarative nature and reliance on formal logic may require developers to learn new programming techniques and thinking approaches.\n",
    "\n",
    "Logic programming finds applications in various domains, including artificial intelligence, expert systems, natural language processing, knowledge representation, and constraint satisfaction problems. Prolog, as a popular logic programming language, has been used in research, education, and practical applications for decades.\n",
    "\n",
    "Prolog, the most widely used logic programming language, provides a set of built-in predicates and mechanisms for defining rules and facts. Prolog programs consist of a collection of facts and rules, and the program execution involves querying the program to retrieve solutions. Prolog uses a process called resolution to evaluate queries by unifying them with the available rules and facts.\n",
    "\n",
    "Logic programming allows developers to express complex relationships and constraints in a concise and declarative manner. It promotes a high-level view of problem solving, focusing on what needs to be achieved rather than how to achieve it. This makes logic programming particularly suitable for tasks involving logical reasoning, search, and inference.\n",
    "\n",
    "In logic programming, the declarative nature of the language allows for automatic backtracking. When a query fails, the system automatically backtracks and explores alternative solutions. This feature eliminates the need for explicit error handling and makes it easy to explore different possibilities.\n",
    "\n",
    "Logic programming also enables the development of rule-based systems, where a set of rules is used to make decisions or draw conclusions based on given inputs. Rule-based systems find applications in areas such as expert systems, artificial intelligence, and business rule engines. They provide a flexible and modular approach to modeling complex decision-making processes.\n",
    "\n",
    "One of the challenges of logic programming is the potential for inefficient execution, especially for problems with large search spaces. The search process can become computationally expensive, resulting in increased execution time and memory requirements. Efficient use of logical constructs, careful algorithm design, and optimization techniques are essential to overcome these challenges.\n",
    "\n",
    "Another limitation of logic programming is the limited control flow compared to imperative programming paradigms. Logic programming languages lack traditional control flow mechanisms like loops and conditionals. While backtracking allows for exploration of multiple solutions, expressing complex control flow patterns can be more challenging in logic programming.\n",
    "\n",
    "Despite its challenges, logic programming has been successfully applied in various fields. It provides a powerful tool for solving problems that require logical reasoning, knowledge representation, and constraint satisfaction. With the advancements in artificial intelligence and automated reasoning, logic programming continues to be an active area of research and development.\n",
    "\n",
    "In conclusion, logic programming is a programming paradigm based on formal logic, where programs are defined by specifying logical rules and facts. It offers a declarative approach to problem solving, focusing on relationships and constraints. Logic programming languages like Prolog provide mechanisms for automatic backtracking and rule-based reasoning, making them suitable for tasks involving logical inference, expert systems, and knowledge representation."
   ]
  },
  {
   "attachments": {},
   "cell_type": "markdown",
   "metadata": {},
   "source": [
    "9.A. Python program to find the sum of elements and maximum element of the list."
   ]
  },
  {
   "attachments": {},
   "cell_type": "markdown",
   "metadata": {},
   "source": [
    "Algorithm:\n",
    "1. Initialize the  list\n",
    "2. Use reduce to compute sum of list \n",
    "3. Use reduce to compute maximum element from list \n",
    "4. Print the results.\n"
   ]
  },
  {
   "cell_type": "code",
   "execution_count": 4,
   "metadata": {},
   "outputs": [
    {
     "name": "stdout",
     "output_type": "stream",
     "text": [
      "The sum of the list elements is : 17\n",
      "The maximum element of the list is : 6\n"
     ]
    }
   ],
   "source": [
    "import functools\n",
    "lis = [ 1 , 3, 5, 6, 2, ] \n",
    "print (\"The sum of the list elements is : \",end=\"\") \n",
    "print (functools.reduce(lambda a,b : a+b,lis))   \n",
    "print (\"The maximum element of the list is : \",end=\"\") \n",
    "print (functools.reduce(lambda a,b : a if a > b else b,lis))\n"
   ]
  },
  {
   "attachments": {},
   "cell_type": "markdown",
   "metadata": {},
   "source": [
    "B. Python program to find product of list elements and  concatenated products of the list."
   ]
  },
  {
   "attachments": {},
   "cell_type": "markdown",
   "metadata": {},
   "source": [
    "Algorithm:\n",
    "1. Importing operator for operator functions \n",
    "2. Initialize the  list\n",
    "3. Use reduce to compute product \n",
    "4. Use reduce to compute maximum element from list \n",
    "5. Print the results.\n"
   ]
  },
  {
   "cell_type": "code",
   "execution_count": 12,
   "metadata": {},
   "outputs": [
    {
     "name": "stdout",
     "output_type": "stream",
     "text": [
      "The product of list elements is : 180\n",
      "The concatenated product is : welcometoSRM\n"
     ]
    }
   ],
   "source": [
    "import functools\n",
    "import operator\n",
    "lis = [ 1 , 3, 5, 6, 2, ] \n",
    "print (\"The product of list elements is : \",end=\"\") \n",
    "print (functools.reduce(operator.mul,lis)) \n",
    " # using reduce to concatenate string \n",
    "print (\"The concatenated product is : \",end=\"\") \n",
    "print (functools.reduce(operator.add,[\"welcome\",\"to\",\"SRM\"]))\n"
   ]
  },
  {
   "attachments": {},
   "cell_type": "markdown",
   "metadata": {},
   "source": [
    "C. Write in detail about Functional Programming Paradigm"
   ]
  },
  {
   "attachments": {},
   "cell_type": "markdown",
   "metadata": {},
   "source": [
    "Functional programming is a programming paradigm that treats computation as the evaluation of mathematical functions and avoids changing state and mutable data. It emphasizes immutability, pure functions, and declarative programming style. Functional programming languages, such as Haskell, Lisp, and Scala, are designed to support and encourage the functional programming paradigm.\n",
    "\n",
    "Key Concepts in Functional Programming Paradigm:\n",
    "\n",
    "1. Pure Functions: In functional programming, functions are treated as first-class citizens, meaning they can be assigned to variables, passed as arguments to other functions, and returned as results. Pure functions have no side effects and produce the same output for the same input, regardless of the program's state. They rely solely on their arguments and do not modify global state or external resources.\n",
    "\n",
    "2. Immutability: Functional programming promotes immutability, which means that data structures and variables are not modified after they are created. Instead, new values are created through transformations and operations on existing values. This eliminates the risk of unintended side effects and makes programs easier to reason about and debug.\n",
    "\n",
    "3. Higher-Order Functions: Functional programming languages support higher-order functions, which are functions that can accept other functions as arguments or return functions as results. Higher-order functions enable code reuse, modularity, and the ability to express complex operations by combining simpler functions.\n",
    "\n",
    "4. Recursion: Recursion is a fundamental technique in functional programming for repeating a set of computations by calling a function within itself. Recursion replaces iterative loops found in imperative programming, enabling concise and elegant solutions to problems.\n",
    "\n",
    "5. Function Composition: Functional programming encourages the composition of functions, where the output of one function is used as the input for another function. Function composition allows for the creation of complex behavior by combining smaller, reusable functions, promoting code reuse and modularity.\n",
    "\n",
    "6. Lazy Evaluation: Some functional programming languages employ lazy evaluation, which means that expressions are not evaluated until their values are actually needed. This allows for more efficient use of resources and the ability to work with potentially infinite data structures.\n",
    "\n",
    "Advantages of Functional Programming Paradigm:\n",
    "\n",
    "1. Readability and Maintainability: Functional programming promotes a declarative and concise programming style, focusing on what needs to be computed rather than how to compute it. This results in code that is easier to read, understand, and maintain.\n",
    "\n",
    "2. Predictability and Debugging: With no side effects or mutable state, functional programs are more predictable and deterministic. Bugs caused by unexpected state changes or concurrent access to shared mutable data are eliminated or minimized, making debugging easier.\n",
    "\n",
    "3. Parallelism and Concurrency: The emphasis on immutability and pure functions makes functional programs inherently more suitable for parallel and concurrent execution. Since pure functions do not rely on shared mutable state, they can be executed in parallel without concerns about race conditions or data inconsistency.\n",
    "\n",
    "4. Testability: Pure functions with no side effects are easier to test as they produce the same output for the same input, regardless of the program's state. Unit testing and functional testing can be performed more effectively in functional programming.\n",
    "\n",
    "5. Reusability and Modularity: Functional programming promotes the use of higher-order functions and function composition, enabling code reuse and modular design. Functions can be easily combined and reused to build complex behavior, improving software development productivity.\n",
    "\n",
    "Challenges of Functional Programming Paradigm:\n",
    "\n",
    "1. Learning Curve: Functional programming requires a shift in thinking from imperative or object-oriented paradigms. Developers accustomed to mutable state and imperative control flow may find the functional programming concepts initially challenging to grasp.\n",
    "\n",
    "2. Performance Considerations: Functional programming languages may introduce some performance overhead due to immutability and the creation of new data structures during transformations. However, functional programming languages often offer optimization techniques to mitigate these concerns.\n",
    "\n",
    "3. Limited Mutable State: Functional programming discourages the use of mutable state, which can make certain types of tasks,such as I/O operations or stateful computations, more challenging to express in a purely functional manner. While functional programming languages provide mechanisms to handle such scenarios, they may not be as intuitive or straightforward as in imperative programming.\n",
    "\n",
    "4. Efficiency and Memory Usage: Functional programming often relies on recursion and the creation of new data structures, which can lead to increased memory usage compared to iterative approaches. Tail recursion optimization and other techniques can address this concern, but careful design and consideration are necessary to ensure efficient memory usage.\n",
    "\n",
    "5. Tooling and Libraries: Although functional programming has gained popularity in recent years, the ecosystem of tools and libraries may not be as extensive or mature as those available for imperative or object-oriented programming. This can present challenges when building complex systems or working on specific domains.\n",
    "\n",
    "Despite these challenges, functional programming has gained significant popularity due to its emphasis on modularity, testability, and expressiveness. Many modern programming languages, including mainstream languages like JavaScript, Python, and C++, have incorporated functional programming features into their syntax and standard libraries.\n",
    "\n",
    "In conclusion, functional programming is a programming paradigm that focuses on immutability, pure functions, and declarative programming style. It promotes code readability, maintainability, and predictability by avoiding mutable state and side effects. Functional programming offers advantages such as improved testability, parallelism, and modularity. However, it may require a learning curve for developers transitioning from imperative or object-oriented programming and may have challenges in expressing certain types of tasks or in terms of performance and tooling. Nonetheless, functional programming continues to gain popularity and plays a significant role in modern software development."
   ]
  },
  {
   "attachments": {},
   "cell_type": "markdown",
   "metadata": {},
   "source": [
    "10.A. Python program to match mathematical expressions using Kanren library."
   ]
  },
  {
   "attachments": {},
   "cell_type": "markdown",
   "metadata": {},
   "source": [
    "Algorithm:\n",
    "1. Define a function karen_match(expression) that takes in a mathematical expression as a string parameter.\n",
    "2. Inside the function, import the re module to use regular expressions for pattern matching.\n",
    "3. Define a regular expression pattern that Karen should match. For example, the pattern could be r'(\\d+)([\\+\\-\\*\\/])(\\d+)' to match expressions that have two numbers and an operator\n",
    "4. Use the re.match(pattern, expression) function to attempt to match the regular expression pattern to the expression string\n",
    "5. If the match is successful, print a message telling Karen that the expression matches the pattern. Otherwise, print a message saying that the expression does not match the pattern"
   ]
  },
  {
   "cell_type": "code",
   "execution_count": 5,
   "metadata": {},
   "outputs": [
    {
     "ename": "ImportError",
     "evalue": "cannot import name 'Iterator' from 'collections' (/usr/lib/python3.11/collections/__init__.py)",
     "output_type": "error",
     "traceback": [
      "\u001b[0;31m---------------------------------------------------------------------------\u001b[0m",
      "\u001b[0;31mImportError\u001b[0m                               Traceback (most recent call last)",
      "Cell \u001b[0;32mIn[5], line 1\u001b[0m\n\u001b[0;32m----> 1\u001b[0m \u001b[39mfrom\u001b[39;00m \u001b[39mkanren\u001b[39;00m \u001b[39mimport\u001b[39;00m run, var, fact\n\u001b[1;32m      2\u001b[0m \u001b[39mfrom\u001b[39;00m \u001b[39mkanren\u001b[39;00m\u001b[39m.\u001b[39;00m\u001b[39massoccomm\u001b[39;00m \u001b[39mimport\u001b[39;00m eq_assoccomm \u001b[39mas\u001b[39;00m eq\n\u001b[1;32m      3\u001b[0m \u001b[39mfrom\u001b[39;00m \u001b[39mkanren\u001b[39;00m\u001b[39m.\u001b[39;00m\u001b[39massoccomm\u001b[39;00m \u001b[39mimport\u001b[39;00m commutative, associative\n",
      "File \u001b[0;32m~/.local/lib/python3.11/site-packages/kanren/__init__.py:7\u001b[0m\n\u001b[1;32m      2\u001b[0m \u001b[39m\"\"\"\u001b[39;00m\n\u001b[1;32m      3\u001b[0m \u001b[39mkanren is a Python library for logic and relational programming.\u001b[39;00m\n\u001b[1;32m      4\u001b[0m \u001b[39m\"\"\"\u001b[39;00m\n\u001b[1;32m      5\u001b[0m \u001b[39mfrom\u001b[39;00m \u001b[39m__future__\u001b[39;00m \u001b[39mimport\u001b[39;00m absolute_import\n\u001b[0;32m----> 7\u001b[0m \u001b[39mfrom\u001b[39;00m \u001b[39munification\u001b[39;00m \u001b[39mimport\u001b[39;00m (unify, reify, unifiable, var, isvar, \u001b[39mvars\u001b[39m, variables,\n\u001b[1;32m      8\u001b[0m                          Var)\n\u001b[1;32m     10\u001b[0m \u001b[39mfrom\u001b[39;00m \u001b[39m.\u001b[39;00m\u001b[39mcore\u001b[39;00m \u001b[39mimport\u001b[39;00m run, eq, conde, lall, lany\n\u001b[1;32m     11\u001b[0m \u001b[39mfrom\u001b[39;00m \u001b[39m.\u001b[39;00m\u001b[39mgoals\u001b[39;00m \u001b[39mimport\u001b[39;00m seteq, permuteq, goalify, membero\n",
      "File \u001b[0;32m~/.local/lib/python3.11/site-packages/unification/__init__.py:1\u001b[0m\n\u001b[0;32m----> 1\u001b[0m \u001b[39mfrom\u001b[39;00m \u001b[39m.\u001b[39;00m\u001b[39mcore\u001b[39;00m \u001b[39mimport\u001b[39;00m unify, reify\n\u001b[1;32m      2\u001b[0m \u001b[39mfrom\u001b[39;00m \u001b[39m.\u001b[39;00m\u001b[39mmore\u001b[39;00m \u001b[39mimport\u001b[39;00m unifiable\n\u001b[1;32m      3\u001b[0m \u001b[39mfrom\u001b[39;00m \u001b[39m.\u001b[39;00m\u001b[39mvariable\u001b[39;00m \u001b[39mimport\u001b[39;00m var, isvar, \u001b[39mvars\u001b[39m, variables, Var\n",
      "File \u001b[0;32m~/.local/lib/python3.11/site-packages/unification/core.py:2\u001b[0m\n\u001b[1;32m      1\u001b[0m \u001b[39mfrom\u001b[39;00m \u001b[39mfunctools\u001b[39;00m \u001b[39mimport\u001b[39;00m partial\n\u001b[0;32m----> 2\u001b[0m \u001b[39mfrom\u001b[39;00m \u001b[39mcollections\u001b[39;00m \u001b[39mimport\u001b[39;00m Iterator\n\u001b[1;32m      3\u001b[0m \u001b[39mfrom\u001b[39;00m \u001b[39mtoolz\u001b[39;00m\u001b[39m.\u001b[39;00m\u001b[39mcompatibility\u001b[39;00m \u001b[39mimport\u001b[39;00m iteritems, \u001b[39mmap\u001b[39m\n\u001b[1;32m      4\u001b[0m \u001b[39mfrom\u001b[39;00m \u001b[39mtoolz\u001b[39;00m \u001b[39mimport\u001b[39;00m assoc\n",
      "\u001b[0;31mImportError\u001b[0m: cannot import name 'Iterator' from 'collections' (/usr/lib/python3.11/collections/__init__.py)"
     ]
    }
   ],
   "source": [
    "from kanren import run, var, fact\n",
    "from kanren.assoccomm import eq_assoccomm as eq\n",
    "from kanren.assoccomm import commutative, associative\n",
    "add = 'add'\n",
    "mul = 'mul'\n",
    "fact(commutative, mul)\n",
    "fact(commutative, add)\n",
    "fact(associative, mul)\n",
    "fact(associative, add)\n",
    "a, b = var('a'), var('b')\n",
    "original_pattern = (mul, (add, 5, a), b)\n",
    "exp1 = (mul, 2, (add, 5, 1))\n",
    "exp2 = (add,5,(mul,8,1))\n",
    "print(run(0, (a,b), eq(original_pattern, exp1))) \n",
    "print(run(0, (a,b), eq(original_pattern, exp2)))"
   ]
  },
  {
   "attachments": {},
   "cell_type": "markdown",
   "metadata": {},
   "source": [
    "B. Write in detail about Declarative Programming Paradigm."
   ]
  },
  {
   "attachments": {},
   "cell_type": "markdown",
   "metadata": {},
   "source": [
    "Declarative programming is a programming paradigm that focuses on describing \"what\" needs to be accomplished rather than \"how\" to accomplish it. It emphasizes the use of high-level abstractions and declarative statements to define the desired results or properties of a computation, without explicitly specifying the control flow or step-by-step instructions.\n",
    "\n",
    "In declarative programming, the programmer specifies the desired outcome or end result and relies on the underlying system or language to determine the most efficient way to achieve that result. This is in contrast to imperative programming, where the programmer specifies detailed instructions and control flow to achieve the desired outcome.\n",
    "\n",
    "Key Concepts in Declarative Programming:\n",
    "\n",
    "1. Declarative Statements: Declarative programming languages provide constructs and syntax for expressing high-level statements that describe the problem or the desired result. These statements are often expressed using a combination of logical, functional, or constraint-based languages.\n",
    "\n",
    "2. Abstraction: Declarative programming encourages the use of abstractions to encapsulate complex behavior and allow for reuse. Abstractions can be defined using functions, types, classes, modules, or other language-specific constructs.\n",
    "\n",
    "3. Separation of Concerns: Declarative programming promotes the separation of concerns by dividing the program into smaller, independent modules or components. Each module focuses on a specific aspect of the problem and declares the properties or constraints that need to be satisfied.\n",
    "\n",
    "4. Automatic Control Flow: In declarative programming, the control flow is typically determined automatically by the underlying system or language. The programmer specifies the relationships, dependencies, and constraints, and the system handles the execution and coordination of the computations.\n",
    "\n",
    "5. Emphasis on Data Transformation: Declarative programming often revolves around transforming data from one form to another, rather than explicitly specifying how the transformation should occur. This is achieved through the use of transformations, filters, mappings, and other higher-level operations.\n",
    "\n",
    "Advantages of Declarative Programming Paradigm:\n",
    "\n",
    "1. Expressiveness: Declarative programming provides a higher level of abstraction, allowing programmers to focus on the problem domain rather than the implementation details. It enables concise and expressive code that is closer to the problem statement.\n",
    "\n",
    "2. Readability and Maintainability: Declarative code is often easier to read, understand, and maintain since it focuses on the intent rather than the implementation details. It promotes code reusability and modularity, leading to cleaner and more maintainable codebases.\n",
    "\n",
    "3. Parallelism and Concurrency: The declarative nature of the code makes it easier to identify and exploit parallelism and concurrency opportunities. The underlying system can analyze dependencies and execute independent computations in parallel, improving performance.\n",
    "\n",
    "4. Optimization: Declarative languages and systems often have built-in optimization mechanisms. They can analyze the declarative statements and automatically optimize the execution, leading to efficient and optimized code without manual tuning.\n",
    "\n",
    "5. Domain-Specific Languages (DSLs): Declarative programming facilitates the creation of domain-specific languages (DSLs) that are tailored to specific problem domains. DSLs allow domain experts to express solutions in a familiar and natural way, improving productivity and communication.\n",
    "\n",
    "Challenges of Declarative Programming Paradigm:\n",
    "\n",
    "1. Learning Curve: Declarative programming requires a different mindset and may have a steeper learning curve for programmers accustomed to imperative programming paradigms.\n",
    "\n",
    "2. Limited Control: By abstracting away the control flow, declarative programming may limit the control and fine-grained optimization options available to the programmer. Performance-critical sections may require manual intervention or a mix of declarative and imperative approaches.\n",
    "\n",
    "3. Limited Expressiveness: While declarative programming is well-suited for certain problem domains, it may not be the best choice for tasks that require low-level control or interaction with external systems that rely heavily on imperative instructions.\n",
    "\n",
    "4. Tooling and Ecosystem: The availability of libraries, tools,and frameworks for declarative programming paradigms may vary depending on the language or system being used. Some languages may have a less extensive ecosystem or lack mature tooling compared to more mainstream imperative or object-oriented programming paradigms.\n",
    "\n",
    "5. Performance Trade-offs: Although declarative programming can lead to efficient and optimized code, there may be cases where imperative approaches provide more fine-grained control over performance optimizations. Balancing the benefits of declarative programming with performance considerations may require careful analysis and tuning.\n",
    "\n",
    "Examples of Declarative Programming Paradigms:\n",
    "\n",
    "1. Logic Programming: Logic programming languages, such as Prolog, are based on formal logic and use declarative statements to define relationships between facts and rules. Programmers define the desired outcome through logical queries, and the system automatically searches for solutions by evaluating the rules and facts.\n",
    "\n",
    "2. Functional Programming: Functional programming languages, like Haskell and Lisp, embrace declarative programming by treating computation as the evaluation of mathematical functions. Functions are defined as pure and side-effect-free, allowing the programmer to focus on expressing transformations and operations on data.\n",
    "\n",
    "3. SQL: Structured Query Language (SQL) is a declarative language used for querying and manipulating relational databases. SQL statements express what data is required and how it should be retrieved or modified, leaving the database management system to determine the most efficient way to execute the query.\n",
    "\n",
    "4. Markup Languages: Markup languages such as HTML (Hypertext Markup Language) and XML (eXtensible Markup Language) are declarative languages for structuring and presenting data. Developers specify the structure and presentation of data using markup tags, leaving the rendering engine to interpret and render the content.\n",
    "\n",
    "5. Regular Expressions: Regular expressions provide a declarative way to describe patterns in text. They are used for tasks such as string matching, validation, and data extraction. Developers define a pattern using a combination of characters and symbols, and the system matches and manipulates text based on that pattern.\n",
    "\n",
    "In conclusion, declarative programming is a programming paradigm that focuses on expressing \"what\" needs to be accomplished rather than \"how\" to accomplish it. It promotes the use of high-level abstractions and declarative statements to describe the desired results or properties of a computation. Declarative programming offers advantages such as expressiveness, readability, maintainability, and optimization opportunities. However, it may have a learning curve, limited control, and require careful consideration of performance trade-offs. Different paradigms within declarative programming, such as logic programming and functional programming, provide powerful abstractions and languages tailored to specific problem domains."
   ]
  },
  {
   "attachments": {},
   "cell_type": "markdown",
   "metadata": {},
   "source": [
    "11.A. Commands to find derivative, integration, limits, quadratic equations."
   ]
  },
  {
   "attachments": {},
   "cell_type": "markdown",
   "metadata": {},
   "source": [
    "Algorithm:\n",
    "1. Import sympy module\n",
    "2. Make a symbol\n",
    "3. Find the derivative of the expression\n",
    "4. Print the result\n",
    "5. Find the integration of the expression\n",
    "6. Print the result\n",
    "7. Find the limit of the expression\n",
    "8. Print the result\n",
    "9. Find the quadratic equation of the expression\n",
    "10.  Print the result"
   ]
  },
  {
   "cell_type": "code",
   "execution_count": 14,
   "metadata": {},
   "outputs": [
    {
     "name": "stdout",
     "output_type": "stream",
     "text": [
      "The derivative of the  sin(x)*e ^ x :  -exp(x)*sin(x) + exp(x)*cos(x)\n",
      "The result of  integration is :  exp(x)*sin(x)\n",
      "The value of integration is :  sqrt(2)*sqrt(pi)/2\n",
      "limit is :  1\n",
      "roots are :  [-sqrt(2), sqrt(2)]\n"
     ]
    }
   ],
   "source": [
    "from sympy import *\n",
    "x = Symbol('x')\n",
    " #make the derivative of cos(x)*e ^ x\n",
    "ans1 = diff(cos(x)*exp(x), x)\n",
    "print(\"The derivative of the  sin(x)*e ^ x : \", ans1)\n",
    "# Compute (e ^ x * sin(x)+ e ^ x * cos(x))dx\n",
    "ans2 = integrate(exp(x)*sin(x) + exp(x)*cos(x), x)\n",
    "print(\"The result of  integration is : \", ans2)\n",
    "# Compute definite integral of sin(x ^ 2)dx\n",
    "# in b / w interval of ? and ?? .\n",
    "ans3 = integrate(sin(x**2), (x, -oo, oo))\n",
    "print(\"The value of integration is : \", ans3) \n",
    "# Find the limit of sin(x) / x given x tends to 0 \n",
    "ans4 = limit(sin(x)/x, x, 0)\n",
    "print(\"limit is : \", ans4)\n",
    "# Solve quadratic equation like, example : x ^ 2?2 = 0\n",
    "ans5 = solve(x**2 - 2, x)\n",
    "print(\"roots are : \", ans5)\n"
   ]
  },
  {
   "attachments": {},
   "cell_type": "markdown",
   "metadata": {},
   "source": [
    "B.  Write in detail about Procedural Programming Paradigm."
   ]
  },
  {
   "attachments": {},
   "cell_type": "markdown",
   "metadata": {},
   "source": [
    "12.A. Construction of DFA that accepts substring 01 using python."
   ]
  },
  {
   "attachments": {},
   "cell_type": "markdown",
   "metadata": {},
   "source": [
    "Algorithm:\n",
    "1. Initialize the DFA with the set of states, alphabet, transition function, start state, and set of accept states.\n",
    "2. When a string is input to the DFA, the algorithm starts at the start state of the DFA.\n",
    "3. For each character in the input string, the algorithm checks whether the character is in the alphabet of the DFA. If the character is not in the alphabet, the algorithm returns False.\n",
    "4. The transition function of the DFA is then used to transition from the current state to the next state based on the current character.\n",
    "5. After processing all the characters in the input string, the algorithm checks whether the current state is in the set of accept states. If the current state is in the set of accept states, the algorithm returns True. Otherwise, it returns False.\n"
   ]
  },
  {
   "cell_type": "code",
   "execution_count": 15,
   "metadata": {},
   "outputs": [
    {
     "name": "stdout",
     "output_type": "stream",
     "text": [
      "True\n",
      "False\n"
     ]
    }
   ],
   "source": [
    "class DFA:\n",
    "    def __init__(self, states, alphabet, transition_function, start_state, accept_states):\n",
    "        self.states = states\n",
    "        self.alphabet = alphabet\n",
    "        self.transition_function = transition_function\n",
    "        self.start_state = start_state\n",
    "        self.accept_states = accept_states\n",
    "    \n",
    "    def run(self, input_string):\n",
    "        current_state = self.start_state\n",
    "        for char in input_string:\n",
    "            if char not in self.alphabet:\n",
    "                return False\n",
    "            current_state = self.transition_function[current_state][char]\n",
    "        return current_state in self.accept_states\n",
    "\n",
    "# Example usage:\n",
    "states = {'q0', 'q1', 'q2'}\n",
    "alphabet = {'0', '1'}\n",
    "class DFA:\n",
    "    def __init__(self, states, alphabet, transition_function, start_state, accept_states):\n",
    "        self.states = states\n",
    "        self.alphabet = alphabet\n",
    "        self.transition_function = transition_function\n",
    "        self.start_state = start_state\n",
    "        self.accept_states = accept_states\n",
    "    \n",
    "    def run(self, input_string):\n",
    "        current_state = self.start_state\n",
    "        for char in input_string:\n",
    "            if char not in self.alphabet:\n",
    "                return False\n",
    "            current_state = self.transition_function[current_state][char]\n",
    "        return current_state in self.accept_states\n",
    "states = {'q0', 'q1', 'q2'}\n",
    "alphabet = {'0', '1'}\n",
    "transition_function = {\n",
    "    'q0': {'0': 'q1', '1': 'q0'},\n",
    "    'q1': {'0': 'q1', '1': 'q2'},\n",
    "    'q2': {'0': 'q1', '1': 'q2'}\n",
    "       }\n",
    "start_state = 'q0'\n",
    "accept_states = {'q2'}\n",
    "dfa = DFA(states, alphabet, transition_function, start_state, accept_states)\n",
    "print(dfa.run('01')) # prints True\n",
    "print(dfa.run('1110')) # prints False\n"
   ]
  },
  {
   "attachments": {},
   "cell_type": "markdown",
   "metadata": {},
   "source": [
    "B.  Write in detail about Object oriented Programming Paradigm."
   ]
  },
  {
   "attachments": {},
   "cell_type": "markdown",
   "metadata": {},
   "source": [
    "Procedural programming is a programming paradigm that revolves around the concept of procedures or routines. It focuses on organizing code into a sequence of instructions that are executed one after another, typically manipulating data and performing operations step by step. In procedural programming, the program is divided into smaller modules, functions, or procedures, each responsible for performing a specific task.\n",
    "\n",
    "Key Concepts in Procedural Programming:\n",
    "\n",
    "1. Procedures or Functions: Procedural programming emphasizes the use of procedures or functions, which are self-contained blocks of code that encapsulate a specific task or operation. Functions can take inputs (arguments) and produce outputs (return values) and are designed to be reusable and modular.\n",
    "\n",
    "2. Control Flow: Procedural programming relies on control structures like conditionals (if-else statements), loops (for, while loops), and branching (switch statements) to control the flow of execution based on conditions or iterations. These control structures dictate the order in which instructions are executed.\n",
    "\n",
    "3. Variables and Data: Procedural programming uses variables to store and manipulate data. Variables have a specific type and can hold values that can be modified during program execution. The program uses assignment statements to update variable values and perform computations on them.\n",
    "\n",
    "4. Modularity: Procedural programming promotes modularity by breaking down the program into smaller, self-contained procedures or functions. Each procedure focuses on a specific task or operation, making the code easier to read, understand, and maintain. Modules can be organized hierarchically to create a structured program.\n",
    "\n",
    "5. Procedural Abstraction: Procedural programming encourages the use of procedural abstraction, which involves hiding the implementation details of a procedure and exposing only the necessary interface or contract. This allows other parts of the program to use the procedure without needing to know its internal workings.\n",
    "\n",
    "Advantages of Procedural Programming Paradigm:\n",
    "\n",
    "1. Simplicity and Readability: Procedural programs are typically easier to read and understand due to their linear structure and step-by-step execution. They follow a natural flow similar to reading a book, making it easier to grasp the logic and purpose of the program.\n",
    "\n",
    "2. Reusability: Procedures or functions can be reused across different parts of the program, improving code reusability and reducing redundancy. Once a procedure is defined, it can be called from various places within the program, avoiding the need to rewrite the same code.\n",
    "\n",
    "3. Maintainability: Procedural programming promotes code modularity, making it easier to maintain and update the codebase. When a change is required, it is often isolated to a specific procedure, minimizing the impact on the rest of the program.\n",
    "\n",
    "4. Efficiency: Procedural programming allows for fine-grained control over memory and system resources. By directly manipulating variables and controlling the execution flow, procedural programs can be optimized for efficiency and performance.\n",
    "\n",
    "5. Procedural Languages: Many popular programming languages, such as C, Pascal, and Fortran, are based on the procedural programming paradigm. These languages provide built-in features and constructs specifically designed for procedural programming, making it easy to write and understand procedural code.\n",
    "\n",
    "Challenges of Procedural Programming Paradigm:\n",
    "\n",
    "1. Lack of Abstraction: Procedural programming may involve a lot of explicit coding and can lack high-level abstractions compared to other paradigms like object-oriented programming. Complex systems may require more effort to manage and understand due to the absence of higher-level organizational structures.\n",
    "\n",
    "2. Code Duplication: Without careful design, procedural programming can lead to code duplication. Procedures or functions that perform similar tasks may need to be implemented separately in different parts of the program, resulting in redundant code and reduced maintainability.\n",
    "\n",
    "3. Limited Scalability: As programs grow larger and more complex, maintaining a procedural codebase can become challenging. Managing dependencies between procedures and handling global state can become more difficult as the program size increases. This can limit the scalability of procedural programming for large-scale software development.\n",
    "\n",
    "4. Code Readability: While procedural programming can be relatively easy to read and understand for small to medium-sized programs, it may become more challenging as the program grows in size and complexity. With a large number of procedures and intricate control flow, it can be harder to trace the logic and understand the overall program behavior.\n",
    "\n",
    "5. Code Maintenance: Making changes to a procedural codebase can be more challenging compared to other paradigms. Modifying one procedure may require updating multiple locations throughout the program, leading to potential errors and bugs. The lack of encapsulation and data hiding can make it difficult to isolate changes and ensure the integrity of the program.\n",
    "\n",
    "Examples of Procedural Programming Languages:\n",
    "\n",
    "1. C: C is a widely used procedural programming language known for its efficiency and low-level control over system resources.\n",
    "\n",
    "2. Pascal: Pascal is a procedural programming language that emphasizes readability and structured programming principles.\n",
    "\n",
    "3. Fortran: Fortran is a procedural programming language primarily used for scientific and numerical computations.\n",
    "\n",
    "4. COBOL: COBOL (Common Business-Oriented Language) is a procedural programming language designed for business applications.\n",
    "\n",
    "5. Assembly Language: Assembly languages are low-level procedural programming languages that directly correspond to machine instructions.\n",
    "\n",
    "In conclusion, procedural programming is a programming paradigm that focuses on breaking down programs into smaller procedures or functions. It emphasizes step-by-step execution, control flow structures, and code modularity. Procedural programming offers advantages such as simplicity, readability, reusability, and fine-grained control over system resources. However, it may face challenges in terms of abstraction, scalability, code duplication, and maintainability for larger and more complex programs. Popular procedural programming languages include C, Pascal, Fortran, COBOL, and assembly languages."
   ]
  },
  {
   "attachments": {},
   "cell_type": "markdown",
   "metadata": {},
   "source": [
    "13.A. Python program to implement TCP network programming.\n",
    "\n"
   ]
  },
  {
   "attachments": {},
   "cell_type": "markdown",
   "metadata": {},
   "source": [
    "Algorithm:\n",
    "1. Create a socket using the socket() system call\n",
    "2. Bind the socket to an IP address and port number using the bind() system call\n",
    "3. Listen for incoming connections using the listen() system call\n",
    "4. Accept incoming connections using the accept() system call. This call will block until a client connects to the server\n",
    "5. Once a client has connected, you can communicate with it using the send() and recv() system calls\n",
    "6. To close the connection, use the close() system call on the socket"
   ]
  },
  {
   "cell_type": "code",
   "execution_count": 16,
   "metadata": {},
   "outputs": [
    {
     "name": "stdout",
     "output_type": "stream",
     "text": [
      "Server is listening on 127.0.0.1:8881...\n"
     ]
    }
   ],
   "source": [
    "import socket #server code\n",
    "# Define host and port\n",
    "HOST = '127.0.0.1'\n",
    "PORT = 8881\n",
    "# Create a socket object\n",
    "s = socket.socket(socket.AF_INET, socket.SOCK_STREAM)\n",
    "# Bind the socket to a specific address and port\n",
    "s.bind((HOST, PORT))\n",
    "# Listen for incoming connections\n",
    "s.listen(1)\n",
    "print(f'Server is listening on {HOST}:{PORT}...')\n",
    "while True:\n",
    "    # Wait for a client to connect\n",
    "    conn, addr = s.accept()\n",
    "    print(f'Connected by {addr}')\n",
    "    # Send a welcome message to the client\n",
    "    message = 'Welcome to the server!'\n",
    "    conn.sendall(message.encode())\n",
    "    # Close the connection\n",
    "    conn.close()\n",
    "\n"
   ]
  },
  {
   "cell_type": "code",
   "execution_count": 7,
   "metadata": {},
   "outputs": [
    {
     "ename": "ConnectionRefusedError",
     "evalue": "[Errno 111] Connection refused",
     "output_type": "error",
     "traceback": [
      "\u001b[0;31m---------------------------------------------------------------------------\u001b[0m",
      "\u001b[0;31mConnectionRefusedError\u001b[0m                    Traceback (most recent call last)",
      "Cell \u001b[0;32mIn[7], line 8\u001b[0m\n\u001b[1;32m      6\u001b[0m s \u001b[39m=\u001b[39m socket\u001b[39m.\u001b[39msocket(socket\u001b[39m.\u001b[39mAF_INET, socket\u001b[39m.\u001b[39mSOCK_STREAM)\n\u001b[1;32m      7\u001b[0m \u001b[39m# Connect to the server\u001b[39;00m\n\u001b[0;32m----> 8\u001b[0m s\u001b[39m.\u001b[39;49mconnect((HOST, PORT))\n\u001b[1;32m      9\u001b[0m \u001b[39m# Receive the welcome message from the server\u001b[39;00m\n\u001b[1;32m     10\u001b[0m message \u001b[39m=\u001b[39m s\u001b[39m.\u001b[39mrecv(\u001b[39m1024\u001b[39m)\n",
      "\u001b[0;31mConnectionRefusedError\u001b[0m: [Errno 111] Connection refused"
     ]
    }
   ],
   "source": [
    "import socket #clint code\n",
    "# Define host and port\n",
    "HOST = '127.0.0.1'\n",
    "PORT = 8881\n",
    "# Create a socket object\n",
    "s = socket.socket(socket.AF_INET, socket.SOCK_STREAM)\n",
    "# Connect to the server\n",
    "s.connect((HOST, PORT))\n",
    "# Receive the welcome message from the server\n",
    "message = s.recv(1024)\n",
    "print(f'Received message: {message.decode()}')\n",
    "# Close the connection\n",
    "s.close()"
   ]
  },
  {
   "attachments": {},
   "cell_type": "markdown",
   "metadata": {},
   "source": [
    "B.  Write in detail about Imperative Programming Paradigm."
   ]
  },
  {
   "attachments": {},
   "cell_type": "markdown",
   "metadata": {},
   "source": [
    "Imperative programming is a programming paradigm that describes computation as a sequence of statements that change the state of the program. It focuses on providing explicit instructions and commands to the computer to perform specific actions and manipulate data. In imperative programming, programs are composed of statements that specify how to achieve a particular goal by defining the sequence of steps to be executed.\n",
    "\n",
    "Key Concepts in Imperative Programming:\n",
    "\n",
    "1. Statements: Imperative programming relies on statements, also known as commands or instructions, to control the program's behavior. Statements can include variable assignments, conditional branching (if-else statements), loops (for, while loops), and function calls.\n",
    "\n",
    "2. State and Variables: Imperative programs maintain state, which represents the values of variables at any given time during program execution. Variables are used to store and manipulate data, and their values can be modified through assignments or computations.\n",
    "\n",
    "3. Control Flow: Imperative programming uses control structures to determine the order in which statements are executed. Control flow structures include conditionals (if-else), loops (for, while), and branching (switch statements), allowing the program to make decisions and repeat actions based on conditions.\n",
    "\n",
    "4. Modularity: Imperative programming allows for code organization through functions or subroutines, which group related statements together. Functions encapsulate a set of statements and can be called and reused throughout the program.\n",
    "\n",
    "5. Side Effects: Imperative programming permits and often relies on side effects, which are modifications to the program's state or interactions with the external environment beyond the returned value of a function. This can include I/O operations, changing global variables, or updating shared resources.\n",
    "\n",
    "Advantages of Imperative Programming Paradigm:\n",
    "\n",
    "1. Control: Imperative programming provides fine-grained control over program execution. Programmers can explicitly specify the order in which statements are executed and manipulate the program's state.\n",
    "\n",
    "2. Efficiency: Imperative programming allows for low-level control over system resources, making it suitable for performance-critical applications. Programmers can optimize code by directly manipulating variables and control flow structures.\n",
    "\n",
    "3. Readability: Imperative programs often closely resemble natural language, making them relatively easy to read and understand. The linear sequence of statements can reflect the intended logic and flow of the program.\n",
    "\n",
    "4. Wide Support: Imperative programming has been widely adopted and is supported by numerous programming languages, libraries, and frameworks. It has a vast ecosystem of tools and resources, making it accessible for developers.\n",
    "\n",
    "5. Direct Manipulation: Imperative programming provides direct access to memory and system resources, allowing for efficient data manipulation and interaction with hardware.\n",
    "\n",
    "Challenges of Imperative Programming Paradigm:\n",
    "\n",
    "1. Complexity: Imperative programming can become complex as the program size and logic increase. Managing the state, control flow, and interactions between different parts of the program can become challenging and lead to code duplication and error-prone code.\n",
    "\n",
    "2. Readability Maintenance: As the program grows, it can become harder to read and maintain due to the complex control flow and interdependencies between statements. Changes to one part of the program may require modifications in multiple locations, making maintenance more challenging.\n",
    "\n",
    "3. Concurrency: Imperative programming can be more challenging to handle in concurrent or parallel environments. Direct manipulation of shared resources can lead to synchronization issues and potential race conditions.\n",
    "\n",
    "4. Debugging: Debugging imperative programs can be more complex compared to other paradigms. Issues may arise due to the mutable state and the non-local effects of statements, making it harder to pinpoint the source of bugs.\n",
    "\n",
    "Examples of Imperative Programming Languages:\n",
    "\n",
    "1. C: C is a popular imperative programming language known for its efficiency and low-level control over system resources.\n",
    "\n",
    "2. Java: Java combines imperative programming with object-oriented features, providing a balance between control and abstraction.\n",
    "\n",
    "3. Python: Python is a multi-paradigm language that supports imperative programming. While Python is known for its readability and ease of use, it allows programmers to write imperative-style code when needed.\n",
    "\n",
    "4. JavaScript: JavaScript is primarily an imperative programming language used for web development. It provides a wide range of imperative features and supports event-driven programming.\n",
    "\n",
    "5. C++: C++ combines imperative programming with object-oriented programming, allowing for low-level control and high-level abstractions.\n",
    "\n",
    "In conclusion, imperative programming is a programming paradigm that focuses on providing explicit instructions and statements to control program behavior and manipulate data. It offers advantages such as fine-grained control, efficiency, readability, and wide language support. However, imperative programming can become complex and harder to maintain as programs grow in size and complexity. Popular imperative programming languages include C, Java, Python, JavaScript, and C++."
   ]
  },
  {
   "attachments": {},
   "cell_type": "markdown",
   "metadata": {},
   "source": [
    "14.A. Python program to implement UDP network programming."
   ]
  },
  {
   "attachments": {},
   "cell_type": "markdown",
   "metadata": {},
   "source": [
    "Algorithm:\n",
    "1. Import the necessary modules: To implement UDP socket programming in Python, you will need to import the socket module\n",
    "2. Create a socket: Create a UDP socket using the socket.socket() method and specify the socket type as socket.SOCK_DGRAM\n",
    "3. Bind the socket: Bind the socket to a specific IP address and port number using the socket.bind() method\n",
    "4. Receive data: Use the socket.recvfrom() method to receive data from the client\n",
    "5. Process the data: Process the data as required by your application\n",
    "6. Send a response: Use the socket.sendto() method to send a response back to the client\n",
    "7. ŚClose the socket: Close the socket using the socket.close() method"
   ]
  },
  {
   "cell_type": "code",
   "execution_count": null,
   "metadata": {},
   "outputs": [],
   "source": [
    "import socket #server code\n",
    "# create a UDP socket\n",
    "udp_socket = socket.socket(socket.AF_INET, socket.SOCK_DGRAM)\n",
    "# bind the socket to a local address and port\n",
    "local_address = ('', 12345)\n",
    "udp_socket.bind(local_address)\n",
    "print('UDP server listening on {}:{}'.format(*local_address))\n",
    "# receive data from clients\n",
    "while True:\n",
    "    data, address = udp_socket.recvfrom(1024)\n",
    "    print('Received data from {}:{}'.format(*address))\n",
    "    print('Data:', data.decode())\n",
    "    # send a response back to the client\n",
    "    message = 'Hello, client!'\n",
    "    udp_socket.sendto(message.encode(), address)\n"
   ]
  },
  {
   "cell_type": "code",
   "execution_count": null,
   "metadata": {},
   "outputs": [],
   "source": [
    "import socket #clint code\n",
    "# create a UDP socket\n",
    "udp_socket = socket.socket(socket.AF_INET, socket.SOCK_DGRAM)\n",
    "# send a message to the server\n",
    "server_address = ('localhost', 12345)\n",
    "message = 'Hello, server!'\n",
    "udp_socket.sendto(message.encode(), server_address)\n",
    "# receive a response from the server\n",
    "data, address = udp_socket.recvfrom(1024)\n",
    "print('Received data from {}:{}'.format(*address))\n",
    "print('Data:', data.decode())\n",
    "udp_socket.close()\n"
   ]
  },
  {
   "attachments": {},
   "cell_type": "markdown",
   "metadata": {},
   "source": [
    " B.  Write in detail about socket Programming."
   ]
  },
  {
   "attachments": {},
   "cell_type": "markdown",
   "metadata": {},
   "source": [
    "Socket programming is a programming paradigm that enables communication between two or more computers over a network using sockets. A socket is a software endpoint that allows programs to send and receive data across a network. Socket programming provides a flexible and powerful mechanism for building networked applications, such as client-server systems, distributed systems, and real-time communication applications.\n",
    "\n",
    "Key Concepts in Socket Programming:\n",
    "\n",
    "1. Sockets: A socket is an endpoint for sending or receiving data over a network. Sockets are identified by an IP address and a port number, which together form a unique address for communication. In socket programming, two types of sockets are commonly used: the server socket and the client socket.\n",
    "\n",
    "- Server Socket: The server socket waits for incoming connections from clients. It listens on a specific port and IP address, accepting incoming connection requests.\n",
    "\n",
    "- Client Socket: The client socket initiates a connection to a server socket. It specifies the IP address and port number of the server it wants to connect to.\n",
    "\n",
    "2. TCP and UDP Protocols: Socket programming supports both the Transmission Control Protocol (TCP) and User Datagram Protocol (UDP) for communication.\n",
    "\n",
    "- TCP: TCP is a reliable, connection-oriented protocol that ensures the delivery of data packets in the order they were sent. It provides features like error detection, flow control, and congestion control.\n",
    "\n",
    "- UDP: UDP is a lightweight, connectionless protocol that does not guarantee reliable delivery or order of packets. It is commonly used for applications that require fast transmission and can tolerate some packet loss, such as real-time streaming and online gaming.\n",
    "\n",
    "3. Socket Operations: Socket programming involves several common operations:\n",
    "\n",
    "- Socket Creation: Creating a socket involves specifying the address family (e.g., IPv4 or IPv6) and the socket type (e.g., TCP or UDP).\n",
    "\n",
    "- Binding: A server socket needs to bind to a specific IP address and port number on the local machine to start listening for incoming connections.\n",
    "\n",
    "- Listening: The server socket enters a listening state, waiting for incoming connection requests from clients.\n",
    "\n",
    "- Connection Establishment: The client socket initiates a connection to the server socket by specifying the server's IP address and port number.\n",
    "\n",
    "- Data Transmission: Once the connection is established, both the client and server can send and receive data over the socket using read and write operations.\n",
    "\n",
    "- Connection Termination: Either the client or server can terminate the connection by closing the socket.\n",
    "\n",
    "Advantages of Socket Programming:\n",
    "\n",
    "1. Network Communication: Socket programming enables communication between processes running on different machines over a network. It allows for the exchange of data, messages, and commands in real-time.\n",
    "\n",
    "2. Platform Independence: Socket programming is supported by various programming languages and operating systems, making it portable and platform-independent. It provides a standardized way of networking regardless of the underlying hardware or software.\n",
    "\n",
    "3. Flexibility and Scalability: Socket programming allows for the development of scalable and flexible networked applications. It supports various communication patterns, such as one-to-one, one-to-many, and many-to-many, enabling the design of complex distributed systems.\n",
    "\n",
    "4. Real-Time Communication: Socket programming is commonly used in real-time applications such as instant messaging, video conferencing, and online gaming, where low latency and fast data transmission are essential.\n",
    "\n",
    "Challenges of Socket Programming:\n",
    "\n",
    "1. Complex Error Handling: Socket programming involves handling various errors and exceptions that can occur during network communication, such as connection failures, timeouts, and packet loss. Proper error handling and recovery mechanisms are essential to ensure the stability and reliability of the application.\n",
    "\n",
    "2. Security Considerations: Socket programming requires careful consideration of security measures to protect sensitive data transmitted over the network. Techniques like encryption, authentication, and data validation should be implemented to ensure secure communication.\n",
    "\n",
    "3. Asynchronous Programming: Developing socket-based applications often involves managing multiple connections and handling simultaneous events. Asynchronous programming 4. Scalability: Socket programming can face scalability challenges when dealing with a large number of clients or high-volume data transmission. Managing concurrent connections and optimizing network performance can be complex, requiring careful design and implementation.\n",
    "\n",
    "5. Portability: While socket programming is generally portable, some differences may exist across different operating systems or programming languages. Handling these variations and ensuring compatibility across platforms can add complexity to the development process.\n",
    "\n",
    "Examples of Socket Programming:\n",
    "\n",
    "Socket programming is supported by many programming languages and frameworks. Here are a few examples:\n",
    "\n",
    "1. Python: Python provides a built-in socket module that allows developers to create networked applications. The `socket` module provides functions and classes for socket creation, binding, listening, and data transmission.\n",
    "\n",
    "2. Java: Java provides the `java.net` package, which includes classes like `Socket` and `ServerSocket` for socket programming. It supports both TCP and UDP protocols.\n",
    "\n",
    "3. C/C++: The C and C++ languages provide socket programming libraries such as the Berkeley Sockets API, which includes functions like `socket()`, `bind()`, `listen()`, `connect()`, `send()`, and `receive()`.\n",
    "\n",
    "4. Node.js: Node.js is a JavaScript runtime that enables server-side programming. It provides the `net` module, which allows developers to create TCP servers and clients using a socket-based approach.\n",
    "\n",
    "In conclusion, socket programming is a powerful paradigm for building networked applications. It enables communication between processes running on different machines over a network using sockets. Socket programming offers advantages such as network communication, platform independence, flexibility, and real-time communication. However, it also presents challenges related to error handling, security considerations, asynchronous programming, scalability, and portability. Various programming languages and frameworks provide libraries and modules to facilitate socket programming, allowing developers to create robust and efficient networked applications."
   ]
  },
  {
   "attachments": {},
   "cell_type": "markdown",
   "metadata": {},
   "source": [
    "15A. Program to check every key: value pair and check if they match the name : email format."
   ]
  },
  {
   "attachments": {},
   "cell_type": "markdown",
   "metadata": {},
   "source": [
    "Algorithm:\n",
    "1. Define a function that takes a dictionary and two strings as arguments: the key and the format to match\n",
    "2. Use the in keyword to check if the key is in the dictionary\n",
    "3. If the key is in the dictionary, get the value associated with that key using dictionary indexing\n",
    "4. Use regular expressions to match the value with the specified format. You can use the re module in Python for this\n",
    "5. If the value matches the specified format, return True. Otherwise, return False"
   ]
  },
  {
   "cell_type": "code",
   "execution_count": null,
   "metadata": {},
   "outputs": [],
   "source": [
    "from typing import Dict\n",
    "import re\n",
    " # Create an alias called 'ContactDict'\n",
    "ContactDict = Dict[str, str]\n",
    "def check_if_valid(contacts: ContactDict) -> bool:\n",
    "    for name, email in contacts.items():\n",
    "        # Check if name and email are strings\n",
    "        if (not isinstance(name, str)) or (not isinstance(email, str)):\n",
    "            return False\n",
    "        # Check for email xxx@yyy.zzz\n",
    "        if not re.match(r\"[a-zA-Z0-9\\._\\+-]+@[a-zA-Z0-9\\._-]+\\.[a-zA-Z]+$\", email):\n",
    "            return False\n",
    "    return True\n",
    "print(check_if_valid({'viji': 'viji@sample.com'}))\n",
    "print(check_if_valid({'viji': 'viji@sample.com', 123: 'wrong@name.com'}))\n"
   ]
  },
  {
   "attachments": {},
   "cell_type": "markdown",
   "metadata": {},
   "source": [
    "B.  Write in detail about Parallel Programming Paradigm."
   ]
  },
  {
   "attachments": {},
   "cell_type": "markdown",
   "metadata": {},
   "source": [
    "Parallel programming is a programming paradigm that focuses on the simultaneous execution of tasks to achieve increased performance and efficiency. It aims to divide a problem into smaller, independent parts that can be executed concurrently on multiple processors or computing resources. By harnessing the power of parallelism, parallel programming enables faster computation, improved responsiveness, and efficient utilization of hardware resources.\n",
    "\n",
    "Key Concepts in Parallel Programming:\n",
    "\n",
    "1. Concurrency: Concurrency refers to the ability to execute multiple tasks or processes concurrently. In parallel programming, concurrency is achieved by dividing the workload into smaller units that can be executed simultaneously. Concurrency can be achieved through various techniques such as multithreading, multiprocessing, or distributed computing.\n",
    "\n",
    "2. Parallelism: Parallelism refers to the simultaneous execution of tasks to solve a problem. It involves dividing the problem into smaller, independent parts that can be executed concurrently on different computing resources, such as multiple cores of a CPU, multiple CPUs, or even multiple machines in a distributed system.\n",
    "\n",
    "3. Task Decomposition: Task decomposition involves breaking down a problem into smaller, independent tasks that can be executed in parallel. These tasks should be designed in such a way that they can be executed concurrently without any dependencies, allowing for efficient parallel execution.\n",
    "\n",
    "4. Synchronization: In parallel programming, synchronization mechanisms are used to coordinate the execution of concurrent tasks. Synchronization ensures that different tasks access shared resources in a controlled and synchronized manner, preventing data races and maintaining data integrity. Common synchronization techniques include locks, semaphores, barriers, and atomic operations.\n",
    "\n",
    "5. Load Balancing: Load balancing is the process of distributing the workload evenly across different processing units to ensure optimal resource utilization. Load balancing techniques aim to minimize idle time and maximize the overall efficiency of the parallel execution.\n",
    "\n",
    "Advantages of Parallel Programming Paradigm:\n",
    "\n",
    "1. Improved Performance: Parallel programming can significantly enhance the performance of computationally intensive tasks by utilizing multiple computing resources simultaneously. It allows for faster execution, reducing the overall time required to complete a task.\n",
    "\n",
    "2. Scalability: Parallel programming provides scalability by allowing the workload to be distributed across multiple processing units. As the problem size or computational requirements increase, more resources can be added to achieve better performance without sacrificing efficiency.\n",
    "\n",
    "3. Responsiveness: Parallel programming can improve the responsiveness of applications by offloading time-consuming tasks to separate threads or processes. This ensures that the main program remains responsive and can continue executing other tasks while the parallel tasks are being performed.\n",
    "\n",
    "4. Resource Utilization: Parallel programming enables efficient utilization of hardware resources, such as multiple cores or processors. It maximizes the usage of available computing power, making it ideal for high-performance computing and demanding applications.\n",
    "\n",
    "5. Solving Complex Problems: Parallel programming allows for the efficient execution of complex computational tasks that cannot be easily solved using sequential algorithms. It enables the processing of large datasets, complex simulations, and scientific computations in a reasonable amount of time.\n",
    "\n",
    "Challenges of Parallel Programming Paradigm:\n",
    "\n",
    "1. Parallel Overhead: Parallel programming introduces additional overhead in terms of synchronization, communication, and data sharing between parallel tasks. Managing these overheads and ensuring efficient parallel execution can be challenging.\n",
    "\n",
    "2. Complexity: Parallel programming can be more complex than sequential programming due to the increased complexity of managing concurrent tasks, synchronization, and shared resources. Debugging and understanding the behavior of parallel programs can be more challenging.\n",
    "\n",
    "3. Race Conditions and Deadlocks: Parallel programming introduces the possibility of race conditions, where multiple tasks access shared resources simultaneously, leading to unpredictable and incorrect behavior. Deadlocks, which occur when tasks wait indefinitely for resources, can also be a challenge in parallel programming.\n",
    "\n",
    "4. Load Balancing: Load balancing can be challenging, especially when the workload is dynamic or unevenly distributed. Ensuring that tasks are evenly distributed across resources and that all resources are effectively utilized requires careful design and implementation.\n",
    "\n",
    "5. Scalability Limits: While parallel programming offers scalability, there are limits to how effectively a problem can be parallelized. Some problems inherently have dependencies or sequential components that cannot be efficiently parallelized. Identifying the parallelizable parts of a problem and effectively decomposing it into parallel tasks can be a non-trivial task.\n",
    "\n",
    "6. Programming Complexity: Writing correct and efficient parallel programs can be more challenging compared to sequential programs. Parallel programming requires careful consideration of data dependencies, synchronization, and load balancing. Developers need to be familiar with parallel programming models, algorithms, and techniques to ensure the correctness and performance of their programs.\n",
    "\n",
    "7. Debugging and Testing: Debugging parallel programs can be complex due to the non-deterministic nature of concurrent execution. Identifying and resolving race conditions, deadlocks, and other concurrency-related issues can be time-consuming and require specialized tools and techniques. Testing parallel programs to ensure their correctness and performance also poses additional challenges.\n",
    "\n",
    "Parallel Programming Models and Frameworks:\n",
    "\n",
    "To facilitate parallel programming, various models and frameworks have been developed that provide higher-level abstractions and tools for managing parallelism. Some commonly used models and frameworks include:\n",
    "\n",
    "1. Message Passing Interface (MPI): MPI is a widely used message-passing system for parallel programming. It enables communication and coordination between distributed processes running on different computing nodes.\n",
    "\n",
    "2. OpenMP: OpenMP is an API for shared-memory parallelism in C, C++, and Fortran. It allows developers to annotate code with directives to indicate parallel regions and handles thread creation, synchronization, and load balancing automatically.\n",
    "\n",
    "3. CUDA: CUDA is a parallel computing platform and programming model developed by NVIDIA. It enables developers to utilize the parallel processing power of NVIDIA GPUs by writing GPU-accelerated code in languages like CUDA C++.\n",
    "\n",
    "4. MapReduce: MapReduce is a programming model for processing and generating large datasets in parallel. It provides a high-level abstraction that automatically handles parallelism, fault tolerance, and load balancing. Apache Hadoop is a popular open-source implementation of the MapReduce model.\n",
    "\n",
    "5. Parallel Libraries: Many programming languages provide parallel libraries that simplify parallel programming. For example, Python offers libraries like multiprocessing and concurrent.futures, which enable developers to write parallel code using high-level abstractions.\n",
    "\n",
    "In conclusion, parallel programming is a paradigm that enables the simultaneous execution of tasks to improve performance and efficiency. It utilizes multiple computing resources to solve computationally intensive problems. Parallel programming offers advantages such as improved performance, scalability, responsiveness, and efficient resource utilization. However, it also presents challenges related to parallel overhead, complexity, race conditions, load balancing, scalability limits, and programming complexity. Various models and frameworks exist to support parallel programming and provide higher-level abstractions and tools for managing parallelism. Effective parallel programming requires careful consideration of task decomposition, synchronization, load balancing, and testing to ensure correctness and performance."
   ]
  },
  {
   "attachments": {},
   "cell_type": "markdown",
   "metadata": {},
   "source": [
    "16.A. Program to implement employee salary calculation using python."
   ]
  },
  {
   "attachments": {},
   "cell_type": "markdown",
   "metadata": {},
   "source": [
    "Algorithm:\n",
    "1. Prompt the user to enter the number of hours worked by the employee and store it in a variable\n",
    "2. Prompt the user to enter the hourly rate of the employee and store it in a variable \n",
    "3. Calculate the gross pay of the employee by multiplying the hours worked by the hourly rate and store it in a variable\n",
    "4. Calculate the tax amount by multiplying the gross pay by the tax rate (if applicable) and store it in a variable\n",
    "5. Calculate the net pay by subtracting the tax amount (if applicable) from the gross pay and store it in a variable\n",
    "6. Print the gross pay, tax amount (if applicable), and net pay to the user"
   ]
  },
  {
   "cell_type": "code",
   "execution_count": null,
   "metadata": {},
   "outputs": [],
   "source": [
    "from tkinter import *\n",
    "def Ok():\n",
    "    result = float(e2.get())\n",
    "    if(result > 50000) :\n",
    "        tax = result * 10/100\n",
    "    elif(result > 30000) :\n",
    "        tax = result * 5/100\n",
    "    else :\n",
    "        tax = 0\n",
    "    taxText.set(tax)\n",
    "    nsal =  result - tax\n",
    "    nsalText.set(nsal)\n",
    "root = Tk()\n",
    "root.title(\"Employee Salary Calculation System\")\n",
    "root.geometry(\"300x400\")\n",
    "global e1\n",
    "global e2\n",
    "global taxText\n",
    "global nsalText\n",
    "taxText = StringVar()\n",
    "nsalText = StringVar()\n",
    "Label(root, text=\"Employee Name\").place(x=10, y=10)\n",
    "Label(root, text=\"Salary\").place(x=10, y=40)\n",
    "Label(root, text=\"Tax\").place(x=10, y=80)\n",
    "Label(root, text=\"Total:\").place(x=10, y=110)\n",
    "e1 = Entry(root)\n",
    "e1.place(x=100, y=10)\n",
    "e2 = Entry(root)\n",
    "e2.place(x=100, y=40)\n",
    "tax = Label(root, text=\"\", textvariable=taxText).place(x=100,y=80)\n",
    "nsal = Label(root, text=\"\", textvariable=nsalText).place(x=100, y=110)\n",
    "Button(root, text=\"Cal\", command=Ok ,height = 1, width =3).place(x=10, y=150)\n",
    "empname = Entry(root)\n",
    "empsal = Entry(root)\n",
    "root.mainloop()\n"
   ]
  },
  {
   "attachments": {},
   "cell_type": "markdown",
   "metadata": {},
   "source": [
    "B.  Write in detail about Concurrent Programming Paradigm."
   ]
  },
  {
   "attachments": {},
   "cell_type": "markdown",
   "metadata": {},
   "source": [
    "Concurrent programming is a programming paradigm that deals with the execution of multiple tasks at the same time. In contrast to traditional sequential programming, where the execution of instructions happens one after the other, in concurrent programming, multiple threads of execution run simultaneously.\n",
    "\n",
    "Concurrent programming is essential for building high-performance, scalable, and responsive applications. It can be used to take advantage of modern hardware, which often consists of multiple processors or cores, by running multiple tasks concurrently.\n",
    "\n",
    "The main challenge of concurrent programming is to coordinate the activities of multiple threads to ensure that they do not interfere with each other and produce consistent results. This requires synchronization mechanisms such as locks, semaphores, and barriers, which allow threads to coordinate their activities and share resources without interfering with each other.\n",
    "\n",
    "Concurrent programming can be used to build various types of applications, including server applications, web applications, desktop applications, and mobile applications. It can be used to implement real-time systems, which require precise timing and responsiveness, as well as distributed systems, which involve multiple nodes communicating with each other over a network.\n",
    "\n",
    "There are several programming languages and frameworks that support concurrent programming, including Java, Python, C#, Go, Erlang, and Rust. These languages and frameworks provide various concurrency models, such as threads, processes, actors, and coroutines, which offer different trade-offs between performance, ease of use, and reliability.\n",
    "\n",
    "Some common concurrency patterns used in concurrent programming include:\n",
    "\n",
    "1. Parallelism: running multiple tasks concurrently to speed up their execution time.\n",
    "2. Synchronization: coordinating the activities of multiple threads to ensure that they do not interfere with each other.\n",
    "3. Communication: exchanging data and messages between threads to coordinate their activities.\n",
    "4. Lock-free programming: designing algorithms and data structures that do not require locks to coordinate access to shared resources.\n",
    "5. Reactive programming: building systems that respond to events and signals in real-time.\n",
    "\n",
    "In summary, concurrent programming is a programming paradigm that deals with the execution of multiple tasks at the same time. It is essential for building high-performance, scalable, and responsive applications and requires synchronization mechanisms to coordinate the activities of multiple threads. There are various concurrency models, programming languages, frameworks, and patterns used in concurrent programming.\n",
    "\n",
    "Some common techniques used in concurrent programming include:\n",
    "\n",
    "1. Thread pooling: creating a pool of threads that can be used to execute multiple tasks concurrently.\n",
    "2. Futures and promises: a programming abstraction that allows asynchronous computation by deferring the execution of a function and returning a future or promise object that can be used to retrieve the result later.\n",
    "3. Actors: a programming model that represents concurrent entities as actors that communicate with each other by sending messages.\n",
    "4. Coroutines: a programming construct that allows cooperative multitasking by suspending and resuming execution at specific points in a function.\n",
    "5. Event-driven programming: a programming model that involves responding to events and signals asynchronously, rather than blocking and waiting for them.\n",
    "\n",
    "Concurrent programming can be challenging to develop and debug due to the non-deterministic behavior of concurrent programs, which can lead to race conditions, deadlocks, and other concurrency-related bugs. Tools such as debuggers, profilers, and concurrency testing frameworks can help developers identify and resolve such issues.\n",
    "\n",
    "In conclusion, concurrent programming is an essential paradigm for developing modern, high-performance, and responsive applications that take advantage of modern hardware and scale well. It requires synchronization mechanisms and careful design to ensure correct and consistent behavior. There are several programming languages, frameworks, models, and patterns used in concurrent programming, and it can be challenging to develop and debug."
   ]
  }
 ],
 "metadata": {
  "kernelspec": {
   "display_name": "Python 3",
   "language": "python",
   "name": "python3"
  },
  "language_info": {
   "codemirror_mode": {
    "name": "ipython",
    "version": 3
   },
   "file_extension": ".py",
   "mimetype": "text/x-python",
   "name": "python",
   "nbconvert_exporter": "python",
   "pygments_lexer": "ipython3",
   "version": "3.11.3"
  },
  "orig_nbformat": 4
 },
 "nbformat": 4,
 "nbformat_minor": 2
}
